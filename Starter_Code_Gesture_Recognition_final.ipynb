{
 "cells": [
  {
   "cell_type": "markdown",
   "metadata": {},
   "source": [
    "# Deep Learning Project - Gesture Recognition"
   ]
  },
  {
   "cell_type": "markdown",
   "metadata": {},
   "source": [
    "## Problem Statement\n",
    "\n",
    "Imagine you are working as a data scientist at a home electronics company which manufactures state of the art smart televisions. You want to develop a cool feature in the smart-TV that can recognise five different gestures performed by the user which will help users control the TV without using a remote."
   ]
  },
  {
   "cell_type": "markdown",
   "metadata": {},
   "source": [
    "## Objectives:\n",
    "\n",
    "Generator: The generator should be able to take a batch of videos as input without any error. Steps like cropping, resizing and normalization should be performed successfully.\n",
    "\n",
    "Model: Develop a model that is able to train without any errors which will be judged on the total number of parameters (as the inference(prediction) time should be less) and the accuracy achieved. As suggested by Snehansu, start training on a small amount of data and then proceed further.\n",
    "\n",
    "Write up: This should contain the detailed procedure followed in choosing the final model. The write up should start with the reason for choosing the base model, then highlight the reasons and metrics taken into consideration to modify and experiment to arrive at the final model.\n"
   ]
  },
  {
   "cell_type": "markdown",
   "metadata": {},
   "source": [
    "#### Importing the Libraries"
   ]
  },
  {
   "cell_type": "code",
   "execution_count": 2,
   "metadata": {},
   "outputs": [],
   "source": [
    "import numpy as np\n",
    "import os\n",
    "from imageio import imread\n",
    "from skimage.transform import resize\n",
    "import datetime\n",
    "import os\n",
    "from skimage.transform import resize"
   ]
  },
  {
   "cell_type": "markdown",
   "metadata": {},
   "source": [
    "We set the random seed so that the results don't vary drastically."
   ]
  },
  {
   "cell_type": "code",
   "execution_count": 3,
   "metadata": {},
   "outputs": [],
   "source": [
    "np.random.seed(30)\n",
    "import random as rn\n",
    "rn.seed(30)\n",
    "from tensorflow import keras\n",
    "import tensorflow as tf\n",
    "tf.random.set_seed(30)"
   ]
  },
  {
   "cell_type": "markdown",
   "metadata": {},
   "source": [
    "In this block, you read the folder names for training and validation. You also set the `batch_size` here. Note that you set the batch size in such a way that you are able to use the GPU in full capacity. You keep increasing the batch size until the machine throws an error."
   ]
  },
  {
   "cell_type": "markdown",
   "metadata": {},
   "source": [
    "**data path: /home/datasets/Project_data**"
   ]
  },
  {
   "cell_type": "code",
   "execution_count": 4,
   "metadata": {},
   "outputs": [],
   "source": [
    "train_doc = np.random.permutation(open('/home/datasets/Project_data/train.csv').readlines())\n",
    "val_doc = np.random.permutation(open('/home/datasets/Project_data/val.csv').readlines())\n",
    "batch_size = 10"
   ]
  },
  {
   "cell_type": "markdown",
   "metadata": {},
   "source": [
    "## Generator\n",
    "This is one of the most important part of the code. The overall structure of the generator has been given. In the generator, you are going to preprocess the images as you have images of 2 different dimensions as well as create a batch of video frames. You have to experiment with `img_idx`, `y`,`z` and normalization such that you get high accuracy."
   ]
  },
  {
   "cell_type": "code",
   "execution_count": 5,
   "metadata": {},
   "outputs": [],
   "source": [
    "x = 30 # number of frames\n",
    "y = 120 # image width\n",
    "z = 120 # image height\n",
    "\n",
    "def generator(source_path, folder_list, batch_size):\n",
    "    print( 'Source path = ', source_path, '; batch size =', batch_size)\n",
    "    img_idx = [x for x in range(0,x)] #create a list of image numbers you want to use for a particular video\n",
    "    while True:\n",
    "        t = np.random.permutation(folder_list)\n",
    "        num_batches = len(folder_list)//batch_size # calculate the number of batches\n",
    "        for batch in range(num_batches): # we iterate over the number of batches\n",
    "            batch_data = np.zeros((batch_size,x,y,z,3)) # x is the number of images you use for each video, (y,z) is the final size of the input images and 3 is the number of channels RGB\n",
    "            batch_labels = np.zeros((batch_size,5)) # batch_labels is the one hot representation of the output\n",
    "            for folder in range(batch_size): # iterate over the batch_size\n",
    "                imgs = os.listdir(source_path+'/'+ t[folder + (batch*batch_size)].split(';')[0]) # read all the images in the folder\n",
    "                for idx,item in enumerate(img_idx): #  Iterate iver the frames/images of a folder to read them in\n",
    "                    image = imread(source_path+'/'+ t[folder + (batch*batch_size)].strip().split(';')[0]+'/'+imgs[item]).astype(np.float32)\n",
    "                    \n",
    "                    #crop the images and resize them. Note that the images are of 2 different shape \n",
    "                    #and the conv3D will throw error if the inputs in a batch have different shapes\n",
    "                    \n",
    "                    temp = resize(image,(120,120))\n",
    "                    temp = temp/127.5-1 #Normalize data\n",
    "                    \n",
    "                    batch_data[folder,idx,:,:,0] = (temp[:,:,0]) #normalise and feed in the image\n",
    "                    batch_data[folder,idx,:,:,1] = (temp[:,:,1]) #normalise and feed in the image\n",
    "                    batch_data[folder,idx,:,:,2] = (temp[:,:,2]) #normalise and feed in the image\n",
    "                    \n",
    "                batch_labels[folder, int(t[folder + (batch*batch_size)].strip().split(';')[2])] = 1\n",
    "            yield batch_data, batch_labels #you yield the batch_data and the batch_labels, remember what does yield do\n",
    "\n",
    "        \n",
    "        # write the code for the remaining data points which are left after full batches\n",
    "        if (len(folder_list) != batch_size*num_batches):\n",
    "            print(\"Batch: \",num_batches+1,\"Index:\", batch_size)\n",
    "            batch_size = len(folder_list) - (batch_size*num_batches)\n",
    "            batch_data = np.zeros((batch_size,x,y,z,3)) # x is the number of images you use for each video, (y,z) is the final size of the input images and 3 is the number of channels RGB\n",
    "            batch_labels = np.zeros((batch_size,5)) # batch_labels is the one hot representation of the output\n",
    "            for folder in range(batch_size): # iterate over the batch_size\n",
    "                imgs = os.listdir(source_path+'/'+ t[folder + (batch*batch_size)].split(';')[0]) # read all the images in the folder\n",
    "                for idx,item in enumerate(img_idx): #  Iterate iver the frames/images of a folder to read them in\n",
    "                    image = imread(source_path+'/'+ t[folder + (batch*batch_size)].strip().split(';')[0]+'/'+imgs[item]).astype(np.float32)\n",
    "                    \n",
    "                    #crop the images and resize them. Note that the images are of 2 different shape \n",
    "                    #and the conv3D will throw error if the inputs in a batch have different shapes\n",
    "                    temp = resize(image,(120,120))\n",
    "                    temp = temp/127.5-1 #Normalize data\n",
    "                    \n",
    "                    batch_data[folder,idx,:,:,0] = (temp[:,:,0])\n",
    "                    batch_data[folder,idx,:,:,1] = (temp[:,:,1])\n",
    "                    batch_data[folder,idx,:,:,2] = (temp[:,:,2])\n",
    "                   \n",
    "                batch_labels[folder, int(t[folder + (batch*batch_size)].strip().split(';')[2])] = 1\n",
    "            yield batch_data, batch_labels\n",
    "        \n",
    "        # write the code for the remaining data points which are left after full batches\n"
   ]
  },
  {
   "cell_type": "markdown",
   "metadata": {},
   "source": [
    "Note here that a video is represented above in the generator as (number of images, height, width, number of channels). Take this into consideration while creating the model architecture."
   ]
  },
  {
   "cell_type": "code",
   "execution_count": 6,
   "metadata": {},
   "outputs": [
    {
     "name": "stdout",
     "output_type": "stream",
     "text": [
      "# training sequences = 663\n",
      "# validation sequences = 100\n",
      "# epochs = 10\n"
     ]
    }
   ],
   "source": [
    "curr_dt_time = datetime.datetime.now()\n",
    "train_path = '/home/datasets/Project_data/train'\n",
    "val_path = '/home/datasets/Project_data/val'\n",
    "num_train_sequences = len(train_doc)\n",
    "print('# training sequences =', num_train_sequences)\n",
    "num_val_sequences = len(val_doc)\n",
    "print('# validation sequences =', num_val_sequences)\n",
    "num_epochs = 10 # choose the number of epochs\n",
    "print ('# epochs =', num_epochs)"
   ]
  },
  {
   "cell_type": "markdown",
   "metadata": {},
   "source": [
    "## Model\n",
    "Here you make the model using different functionalities that Keras provides. Remember to use `Conv3D` and `MaxPooling3D` and not `Conv2D` and `Maxpooling2D` for a 3D convolution model. You would want to use `TimeDistributed` while building a Conv2D + RNN model. Also remember that the last layer is the softmax. Design the network in such a way that the model is able to give good accuracy on the least number of parameters so that it can fit in the memory of the webcam."
   ]
  },
  {
   "cell_type": "code",
   "execution_count": 7,
   "metadata": {},
   "outputs": [],
   "source": [
    "from keras.models import Sequential, Model\n",
    "from keras.layers import Dense, GRU, Flatten, TimeDistributed, Flatten, BatchNormalization, Activation, Dropout\n",
    "from keras.layers.convolutional import Conv3D, MaxPooling3D\n",
    "from keras.callbacks import ModelCheckpoint, ReduceLROnPlateau\n",
    "from keras import optimizers\n",
    "import keras\n",
    "\n",
    "#write your model here"
   ]
  },
  {
   "cell_type": "markdown",
   "metadata": {},
   "source": [
    "#### Model a"
   ]
  },
  {
   "cell_type": "markdown",
   "metadata": {},
   "source": [
    "Now that you have written the model, the next step is to `compile` the model. When you print the `summary` of the model, you'll see the total number of parameters you have to train."
   ]
  },
  {
   "cell_type": "code",
   "execution_count": 8,
   "metadata": {},
   "outputs": [
    {
     "name": "stderr",
     "output_type": "stream",
     "text": [
      "2022-08-23 01:09:10.412617: W tensorflow/stream_executor/platform/default/dso_loader.cc:65] Could not load dynamic library 'libcuda.so.1'; dlerror: libcuda.so.1: cannot open shared object file: No such file or directory; LD_LIBRARY_PATH: /usr/local/cuda/extras/CUPTI/lib64:/usr/local/cuda/compat/lib:/usr/local/nvidia/lib:/usr/local/nvidia/lib64\n",
      "2022-08-23 01:09:10.412666: W tensorflow/stream_executor/cuda/cuda_driver.cc:269] failed call to cuInit: UNKNOWN ERROR (303)\n",
      "2022-08-23 01:09:10.412694: I tensorflow/stream_executor/cuda/cuda_diagnostics.cc:163] no NVIDIA GPU device is present: /dev/nvidia0 does not exist\n"
     ]
    }
   ],
   "source": [
    "#model a\n",
    "model_a = Sequential()\n",
    "\n",
    "model_a.add(Conv3D(8, #number of filters \n",
    "                 kernel_size=(3,3,3), \n",
    "                 input_shape=(30, 120, 120, 3),\n",
    "                 padding='same'))\n",
    "model_a.add(BatchNormalization())\n",
    "model_a.add(Activation('relu'))\n",
    "\n",
    "model_a.add(MaxPooling3D(pool_size=(2,2,2)))\n",
    "\n",
    "model_a.add(Conv3D(16, #Number of filters, \n",
    "                 kernel_size=(3,3,3), \n",
    "                 padding='same'))\n",
    "model_a.add(BatchNormalization())\n",
    "model_a.add(Activation('relu'))\n",
    "\n",
    "model_a.add(MaxPooling3D(pool_size=(2,2,2)))\n",
    "\n",
    "model_a.add(Conv3D(32, #Number of filters \n",
    "                 kernel_size=(1,3,3), \n",
    "                 padding='same'))\n",
    "model_a.add(BatchNormalization())\n",
    "model_a.add(Activation('relu'))\n",
    "\n",
    "model_a.add(MaxPooling3D(pool_size=(2,2,2)))\n",
    "\n",
    "model_a.add(Conv3D(64, #Number pf filters \n",
    "                 kernel_size=(1,3,3), \n",
    "                 padding='same'))\n",
    "model_a.add(BatchNormalization())\n",
    "model_a.add(Activation('relu'))\n",
    "\n",
    "model_a.add(MaxPooling3D(pool_size=(2,2,2)))\n",
    "\n",
    "#Flatten Layers\n",
    "model_a.add(Flatten())\n",
    "\n",
    "model_a.add(Dense(1000, activation='relu'))\n",
    "model_a.add(Dropout(0.5))\n",
    "\n",
    "model_a.add(Dense(500, activation='relu'))\n",
    "model_a.add(Dropout(0.5))\n",
    "\n",
    "#softmax layer\n",
    "model_a.add(Dense(5, activation='softmax'))"
   ]
  },
  {
   "cell_type": "code",
   "execution_count": 9,
   "metadata": {
    "scrolled": true
   },
   "outputs": [
    {
     "name": "stdout",
     "output_type": "stream",
     "text": [
      "Model: \"sequential\"\n",
      "_________________________________________________________________\n",
      " Layer (type)                Output Shape              Param #   \n",
      "=================================================================\n",
      " conv3d (Conv3D)             (None, 30, 120, 120, 8)   656       \n",
      "                                                                 \n",
      " batch_normalization (BatchN  (None, 30, 120, 120, 8)  32        \n",
      " ormalization)                                                   \n",
      "                                                                 \n",
      " activation (Activation)     (None, 30, 120, 120, 8)   0         \n",
      "                                                                 \n",
      " max_pooling3d (MaxPooling3D  (None, 15, 60, 60, 8)    0         \n",
      " )                                                               \n",
      "                                                                 \n",
      " conv3d_1 (Conv3D)           (None, 15, 60, 60, 16)    3472      \n",
      "                                                                 \n",
      " batch_normalization_1 (Batc  (None, 15, 60, 60, 16)   64        \n",
      " hNormalization)                                                 \n",
      "                                                                 \n",
      " activation_1 (Activation)   (None, 15, 60, 60, 16)    0         \n",
      "                                                                 \n",
      " max_pooling3d_1 (MaxPooling  (None, 7, 30, 30, 16)    0         \n",
      " 3D)                                                             \n",
      "                                                                 \n",
      " conv3d_2 (Conv3D)           (None, 7, 30, 30, 32)     4640      \n",
      "                                                                 \n",
      " batch_normalization_2 (Batc  (None, 7, 30, 30, 32)    128       \n",
      " hNormalization)                                                 \n",
      "                                                                 \n",
      " activation_2 (Activation)   (None, 7, 30, 30, 32)     0         \n",
      "                                                                 \n",
      " max_pooling3d_2 (MaxPooling  (None, 3, 15, 15, 32)    0         \n",
      " 3D)                                                             \n",
      "                                                                 \n",
      " conv3d_3 (Conv3D)           (None, 3, 15, 15, 64)     18496     \n",
      "                                                                 \n",
      " batch_normalization_3 (Batc  (None, 3, 15, 15, 64)    256       \n",
      " hNormalization)                                                 \n",
      "                                                                 \n",
      " activation_3 (Activation)   (None, 3, 15, 15, 64)     0         \n",
      "                                                                 \n",
      " max_pooling3d_3 (MaxPooling  (None, 1, 7, 7, 64)      0         \n",
      " 3D)                                                             \n",
      "                                                                 \n",
      " flatten (Flatten)           (None, 3136)              0         \n",
      "                                                                 \n",
      " dense (Dense)               (None, 1000)              3137000   \n",
      "                                                                 \n",
      " dropout (Dropout)           (None, 1000)              0         \n",
      "                                                                 \n",
      " dense_1 (Dense)             (None, 500)               500500    \n",
      "                                                                 \n",
      " dropout_1 (Dropout)         (None, 500)               0         \n",
      "                                                                 \n",
      " dense_2 (Dense)             (None, 5)                 2505      \n",
      "                                                                 \n",
      "=================================================================\n",
      "Total params: 3,667,749\n",
      "Trainable params: 3,667,509\n",
      "Non-trainable params: 240\n",
      "_________________________________________________________________\n",
      "None\n"
     ]
    },
    {
     "name": "stderr",
     "output_type": "stream",
     "text": [
      "/usr/local/lib/python3.8/dist-packages/keras/optimizer_v2/adam.py:105: UserWarning: The `lr` argument is deprecated, use `learning_rate` instead.\n",
      "  super(Adam, self).__init__(name, **kwargs)\n"
     ]
    }
   ],
   "source": [
    "optimiser = tf.keras.optimizers.Adam(lr=0.001) #write your optimizer\n",
    "model_a.compile(optimizer=optimiser, loss='categorical_crossentropy', metrics=['categorical_accuracy'])\n",
    "print (model_a.summary())"
   ]
  },
  {
   "cell_type": "markdown",
   "metadata": {},
   "source": [
    "Let us create the `train_generator` and the `val_generator` which will be used in `.fit_generator`."
   ]
  },
  {
   "cell_type": "code",
   "execution_count": 10,
   "metadata": {},
   "outputs": [],
   "source": [
    "train_generator = generator(train_path, train_doc, batch_size)\n",
    "val_generator = generator(val_path, val_doc, batch_size)"
   ]
  },
  {
   "cell_type": "code",
   "execution_count": 11,
   "metadata": {},
   "outputs": [
    {
     "name": "stdout",
     "output_type": "stream",
     "text": [
      "WARNING:tensorflow:`period` argument is deprecated. Please use `save_freq` to specify the frequency in number of batches seen.\n"
     ]
    }
   ],
   "source": [
    "model_name = 'model_init' + '_' + str(curr_dt_time).replace(' ','').replace(':','_') + '/'\n",
    "    \n",
    "if not os.path.exists(model_name):\n",
    "    os.mkdir(model_name)\n",
    "        \n",
    "filepath = model_name + 'model-{epoch:05d}-{loss:.5f}-{categorical_accuracy:.5f}-{val_loss:.5f}-{val_categorical_accuracy:.5f}.h5'\n",
    "\n",
    "checkpoint = ModelCheckpoint(filepath, monitor='val_loss', verbose=1, save_best_only=False, save_weights_only=False, mode='auto', period=1)\n",
    "\n",
    "LR = ReduceLROnPlateau(monitor='val_loss', factor=0.5, patience=2, cooldown=1, verbose=1) # write the REducelronplateau code here\n",
    "callbacks_list = [checkpoint, LR]"
   ]
  },
  {
   "cell_type": "markdown",
   "metadata": {},
   "source": [
    "The `steps_per_epoch` and `validation_steps` are used by `fit` method to decide the number of next() calls it need to make."
   ]
  },
  {
   "cell_type": "code",
   "execution_count": 12,
   "metadata": {},
   "outputs": [],
   "source": [
    "if (num_train_sequences%batch_size) == 0:\n",
    "    steps_per_epoch = int(num_train_sequences/batch_size)\n",
    "else:\n",
    "    steps_per_epoch = (num_train_sequences//batch_size) + 1\n",
    "\n",
    "if (num_val_sequences%batch_size) == 0:\n",
    "    validation_steps = int(num_val_sequences/batch_size)\n",
    "else:\n",
    "    validation_steps = (num_val_sequences//batch_size) + 1"
   ]
  },
  {
   "cell_type": "markdown",
   "metadata": {},
   "source": [
    "Let us now fit the model. This will start training the model and with the help of the checkpoints, you'll be able to save the model at the end of each epoch."
   ]
  },
  {
   "cell_type": "code",
   "execution_count": 12,
   "metadata": {},
   "outputs": [
    {
     "name": "stderr",
     "output_type": "stream",
     "text": [
      "/tmp/ipykernel_540/1387693686.py:1: UserWarning: `Model.fit_generator` is deprecated and will be removed in a future version. Please use `Model.fit`, which supports generators.\n",
      "  model_a.fit_generator(train_generator, steps_per_epoch=steps_per_epoch, epochs=num_epochs, verbose=1,\n"
     ]
    },
    {
     "name": "stdout",
     "output_type": "stream",
     "text": [
      "Source path =  /home/datasets/Project_data/train ; batch size = 10\n",
      "Epoch 1/10\n",
      "65/67 [============================>.] - ETA: 26s - loss: 4.9368 - categorical_accuracy: 0.2708Batch:  67 Index: 10\n",
      "67/67 [==============================] - ETA: 0s - loss: 4.8874 - categorical_accuracy: 0.2715 Source path =  /home/datasets/Project_data/val ; batch size = 10\n",
      "\n",
      "Epoch 00001: saving model to model_init_2022-08-2104_11_02.784007/model-00001-4.88739-0.27149-1.85692-0.32000.h5\n",
      "67/67 [==============================] - 931s 14s/step - loss: 4.8874 - categorical_accuracy: 0.2715 - val_loss: 1.8569 - val_categorical_accuracy: 0.3200 - lr: 0.0010\n",
      "Epoch 2/10\n",
      "67/67 [==============================] - ETA: 0s - loss: 2.2614 - categorical_accuracy: 0.3085\n",
      "Epoch 00002: saving model to model_init_2022-08-2104_11_02.784007/model-00002-2.26137-0.30846-2.05242-0.27000.h5\n",
      "67/67 [==============================] - 332s 5s/step - loss: 2.2614 - categorical_accuracy: 0.3085 - val_loss: 2.0524 - val_categorical_accuracy: 0.2700 - lr: 0.0010\n",
      "Epoch 3/10\n",
      "67/67 [==============================] - ETA: 0s - loss: 1.9342 - categorical_accuracy: 0.2239\n",
      "Epoch 00003: saving model to model_init_2022-08-2104_11_02.784007/model-00003-1.93417-0.22388-1.33771-0.49000.h5\n",
      "67/67 [==============================] - 341s 5s/step - loss: 1.9342 - categorical_accuracy: 0.2239 - val_loss: 1.3377 - val_categorical_accuracy: 0.4900 - lr: 0.0010\n",
      "Epoch 4/10\n",
      "67/67 [==============================] - ETA: 0s - loss: 1.6337 - categorical_accuracy: 0.3134\n",
      "Epoch 00004: saving model to model_init_2022-08-2104_11_02.784007/model-00004-1.63366-0.31343-1.51585-0.25000.h5\n",
      "67/67 [==============================] - 342s 5s/step - loss: 1.6337 - categorical_accuracy: 0.3134 - val_loss: 1.5158 - val_categorical_accuracy: 0.2500 - lr: 0.0010\n",
      "Epoch 5/10\n",
      "67/67 [==============================] - ETA: 0s - loss: 1.6284 - categorical_accuracy: 0.2736\n",
      "Epoch 00005: saving model to model_init_2022-08-2104_11_02.784007/model-00005-1.62843-0.27363-1.24749-0.48000.h5\n",
      "67/67 [==============================] - 346s 5s/step - loss: 1.6284 - categorical_accuracy: 0.2736 - val_loss: 1.2475 - val_categorical_accuracy: 0.4800 - lr: 0.0010\n",
      "Epoch 6/10\n",
      "67/67 [==============================] - ETA: 0s - loss: 1.4281 - categorical_accuracy: 0.4179\n",
      "Epoch 00006: saving model to model_init_2022-08-2104_11_02.784007/model-00006-1.42812-0.41791-1.29537-0.38000.h5\n",
      "67/67 [==============================] - 349s 5s/step - loss: 1.4281 - categorical_accuracy: 0.4179 - val_loss: 1.2954 - val_categorical_accuracy: 0.3800 - lr: 0.0010\n",
      "Epoch 7/10\n",
      "67/67 [==============================] - ETA: 0s - loss: 1.4634 - categorical_accuracy: 0.3483\n",
      "Epoch 00007: saving model to model_init_2022-08-2104_11_02.784007/model-00007-1.46342-0.34826-1.36510-0.38000.h5\n",
      "\n",
      "Epoch 00007: ReduceLROnPlateau reducing learning rate to 0.0005000000237487257.\n",
      "67/67 [==============================] - 344s 5s/step - loss: 1.4634 - categorical_accuracy: 0.3483 - val_loss: 1.3651 - val_categorical_accuracy: 0.3800 - lr: 0.0010\n",
      "Epoch 8/10\n",
      "67/67 [==============================] - ETA: 0s - loss: 1.2698 - categorical_accuracy: 0.4876\n",
      "Epoch 00008: saving model to model_init_2022-08-2104_11_02.784007/model-00008-1.26980-0.48756-1.08847-0.57000.h5\n",
      "67/67 [==============================] - 346s 5s/step - loss: 1.2698 - categorical_accuracy: 0.4876 - val_loss: 1.0885 - val_categorical_accuracy: 0.5700 - lr: 5.0000e-04\n",
      "Epoch 9/10\n",
      "67/67 [==============================] - ETA: 0s - loss: 1.3438 - categorical_accuracy: 0.4378\n",
      "Epoch 00009: saving model to model_init_2022-08-2104_11_02.784007/model-00009-1.34381-0.43781-1.25303-0.49000.h5\n",
      "67/67 [==============================] - 348s 5s/step - loss: 1.3438 - categorical_accuracy: 0.4378 - val_loss: 1.2530 - val_categorical_accuracy: 0.4900 - lr: 5.0000e-04\n",
      "Epoch 10/10\n",
      "67/67 [==============================] - ETA: 0s - loss: 1.2571 - categorical_accuracy: 0.5224\n",
      "Epoch 00010: saving model to model_init_2022-08-2104_11_02.784007/model-00010-1.25707-0.52239-1.10995-0.54000.h5\n",
      "\n",
      "Epoch 00010: ReduceLROnPlateau reducing learning rate to 0.0002500000118743628.\n",
      "67/67 [==============================] - 344s 5s/step - loss: 1.2571 - categorical_accuracy: 0.5224 - val_loss: 1.1099 - val_categorical_accuracy: 0.5400 - lr: 5.0000e-04\n"
     ]
    },
    {
     "data": {
      "text/plain": [
       "<keras.callbacks.History at 0x7f25a6d6d7c0>"
      ]
     },
     "execution_count": 12,
     "metadata": {},
     "output_type": "execute_result"
    }
   ],
   "source": [
    "model_a.fit_generator(train_generator, steps_per_epoch=steps_per_epoch, epochs=num_epochs, verbose=1, \n",
    "                    callbacks=callbacks_list, validation_data=val_generator, \n",
    "                    validation_steps=validation_steps, class_weight=None, workers=1, initial_epoch=0)"
   ]
  },
  {
   "cell_type": "code",
   "execution_count": 13,
   "metadata": {},
   "outputs": [],
   "source": [
    "classes = 5 #left swipe, right swipe, thumbs up, thumbs down, stop\n",
    "channel = 3\n",
    "x = 30 # number of frames\n",
    "y = 120 # image width\n",
    "z = 120 # image height\n",
    "\n",
    "def generator_ex(source_path, folder_list, batch_size):\n",
    "    print( 'Source path = ', source_path, '; batch size =', batch_size)\n",
    "    img_idx = [x for x in range(0,x)] #create a list of image numbers you want to use for a particular video\n",
    "    while True:\n",
    "        t = np.random.permutation(folder_list)\n",
    "        num_batches = len(folder_list)//batch_size # calculate the number of batches\n",
    "        for batch in range(num_batches): # we iterate over the number of batches\n",
    "            batch_data = np.zeros((batch_size,x,y,z,channel)) # x is the number of images you use for each video, (y,z) is the final size of the input images and 3 is the number of channels RGB\n",
    "            batch_labels = np.zeros((batch_size,classes)) # batch_labels is the one hot representation of the output\n",
    "            for folder in range(batch_size): # iterate over the batch_size\n",
    "                imgs = os.listdir(source_path+'/'+ t[folder + (batch*batch_size)].split(';')[0]) # read all the images in the folder\n",
    "                for idx,item in enumerate(img_idx): #  Iterate iver the frames/images of a folder to read them in\n",
    "                    image = imread(source_path+'/'+ t[folder + (batch*batch_size)].strip().split(';')[0]+'/'+imgs[item]).astype(np.float32)\n",
    "                    \n",
    "                    #crop the images and resize them. Note that the images are of 2 different shape \n",
    "                    #and the conv3D will throw error if the inputs in a batch have different shapes\n",
    "                    \n",
    "                    temp = resize(image,(y,z))\n",
    "                    #Converting to gray scale\n",
    "                    temp = temp.mean(axis=-1,keepdims=1) \n",
    "                    temp = temp/127.5-1 #Normalize data\n",
    "                    batch_data[folder,idx] = temp #normalise and feed in the image\n",
    "                    \n",
    "                batch_labels[folder, int(t[folder + (batch*batch_size)].strip().split(';')[2])] = 1\n",
    "                \n",
    "            yield batch_data, batch_labels #you yield the batch_data and the batch_labels, remember what does yield do\n",
    "\n",
    "        \n",
    "        # write the code for the remaining data points which are left after full batches\n",
    "        if (len(folder_list) != batch_size*num_batches):\n",
    "            print(\"Batch: \",num_batches+1,\"Index:\", batch_size)\n",
    "            batch_size = len(folder_list) - (batch_size*num_batches)\n",
    "            batch_data = np.zeros((batch_size,x,y,z,channel)) # x is the number of images you use for each video, (y,z) is the final size of the input images and 3 is the number of channels RGB\n",
    "            batch_labels = np.zeros((batch_size,classes)) # batch_labels is the one hot representation of the output\n",
    "            for folder in range(batch_size): # iterate over the batch_size\n",
    "                imgs = os.listdir(source_path+'/'+ t[folder + (batch*batch_size)].split(';')[0]) # read all the images in the folder\n",
    "                for idx,item in enumerate(img_idx): #  Iterate iver the frames/images of a folder to read them in\n",
    "                    image = imread(source_path+'/'+ t[folder + (batch*batch_size)].strip().split(';')[0]+'/'+imgs[item]).astype(np.float32)\n",
    "                    \n",
    "                    #crop the images and resize them. Note that the images are of 2 different shape \n",
    "                    #and the conv3D will throw error if the inputs in a batch have different shapes\n",
    "                    temp = resize(image,(y,z))\n",
    "                    #Converting to gray scale\n",
    "                    temp = temp.mean(axis=-1,keepdims=1) \n",
    "                    temp = temp/127.5-1 #Normalize data\n",
    "                    \n",
    "                    batch_data[folder,idx] = temp\n",
    "                   \n",
    "                batch_labels[folder, int(t[folder + (batch*batch_size)].strip().split(';')[2])] = 1\n",
    "            yield batch_data, batch_labels"
   ]
  },
  {
   "cell_type": "code",
   "execution_count": 14,
   "metadata": {},
   "outputs": [],
   "source": [
    "from keras.losses import categorical_crossentropy\n",
    "from tensorflow.keras.optimizers import Adam\n",
    "from keras.models import Sequential"
   ]
  },
  {
   "cell_type": "markdown",
   "metadata": {},
   "source": [
    "#### Model b"
   ]
  },
  {
   "cell_type": "code",
   "execution_count": 15,
   "metadata": {},
   "outputs": [
    {
     "name": "stdout",
     "output_type": "stream",
     "text": [
      "Model: \"sequential_1\"\n",
      "_________________________________________________________________\n",
      " Layer (type)                Output Shape              Param #   \n",
      "=================================================================\n",
      " conv3d_4 (Conv3D)           (None, 30, 120, 120, 32)  2624      \n",
      "                                                                 \n",
      " activation_4 (Activation)   (None, 30, 120, 120, 32)  0         \n",
      "                                                                 \n",
      " conv3d_5 (Conv3D)           (None, 30, 120, 120, 32)  27680     \n",
      "                                                                 \n",
      " activation_5 (Activation)   (None, 30, 120, 120, 32)  0         \n",
      "                                                                 \n",
      " max_pooling3d_4 (MaxPooling  (None, 10, 40, 40, 32)   0         \n",
      " 3D)                                                             \n",
      "                                                                 \n",
      " dropout_2 (Dropout)         (None, 10, 40, 40, 32)    0         \n",
      "                                                                 \n",
      " conv3d_6 (Conv3D)           (None, 10, 40, 40, 64)    55360     \n",
      "                                                                 \n",
      " activation_6 (Activation)   (None, 10, 40, 40, 64)    0         \n",
      "                                                                 \n",
      " conv3d_7 (Conv3D)           (None, 10, 40, 40, 64)    110656    \n",
      "                                                                 \n",
      " activation_7 (Activation)   (None, 10, 40, 40, 64)    0         \n",
      "                                                                 \n",
      " max_pooling3d_5 (MaxPooling  (None, 4, 14, 14, 64)    0         \n",
      " 3D)                                                             \n",
      "                                                                 \n",
      " dropout_3 (Dropout)         (None, 4, 14, 14, 64)     0         \n",
      "                                                                 \n",
      " flatten_1 (Flatten)         (None, 50176)             0         \n",
      "                                                                 \n",
      " dense_3 (Dense)             (None, 512)               25690624  \n",
      "                                                                 \n",
      " dropout_4 (Dropout)         (None, 512)               0         \n",
      "                                                                 \n",
      " dense_4 (Dense)             (None, 5)                 2565      \n",
      "                                                                 \n",
      "=================================================================\n",
      "Total params: 25,889,509\n",
      "Trainable params: 25,889,509\n",
      "Non-trainable params: 0\n",
      "_________________________________________________________________\n"
     ]
    }
   ],
   "source": [
    "# Define model b\n",
    "model_b = Sequential()\n",
    "model_b.add(Conv3D(32, kernel_size=(3, 3, 3), input_shape=(x,y,z,channel), padding='same'))\n",
    "model_b.add(Activation('relu'))\n",
    "model_b.add(Conv3D(32, kernel_size=(3, 3, 3), padding='same'))\n",
    "model_b.add(Activation('relu'))\n",
    "model_b.add(MaxPooling3D(pool_size=(3, 3, 3), padding='same'))\n",
    "model_b.add(Dropout(0.25))\n",
    "\n",
    "model_b.add(Conv3D(64, kernel_size=(3, 3, 3), padding='same'))\n",
    "model_b.add(Activation('relu'))\n",
    "model_b.add(Conv3D(64, kernel_size=(3, 3, 3), padding='same'))\n",
    "model_b.add(Activation('relu'))\n",
    "model_b.add(MaxPooling3D(pool_size=(3, 3, 3), padding='same'))\n",
    "model_b.add(Dropout(0.25))\n",
    "\n",
    "model_b.add(Flatten())\n",
    "model_b.add(Dense(512, activation='relu'))\n",
    "model_b.add(Dropout(0.5))\n",
    "model_b.add(Dense(classes, activation='softmax'))\n",
    "\n",
    "model_b.compile(optimizer=Adam(), loss='categorical_crossentropy', metrics=['categorical_accuracy'])\n",
    "model_b.summary()"
   ]
  },
  {
   "cell_type": "code",
   "execution_count": 16,
   "metadata": {},
   "outputs": [],
   "source": [
    "train_generator = generator_ex(train_path, train_doc, batch_size)\n",
    "val_generator = generator_ex(val_path, val_doc, batch_size)"
   ]
  },
  {
   "cell_type": "code",
   "execution_count": null,
   "metadata": {},
   "outputs": [
    {
     "name": "stdout",
     "output_type": "stream",
     "text": [
      "Source path =  /home/datasets/Project_data/train ; batch size = 10\n",
      "Epoch 1/10\n"
     ]
    }
   ],
   "source": [
    "model_b.fit(train_generator, steps_per_epoch=steps_per_epoch, epochs=num_epochs, verbose=1, \n",
    "                    callbacks=callbacks_list, validation_data=val_generator, \n",
    "                    validation_steps=validation_steps, class_weight=None, workers=1, initial_epoch=0)"
   ]
  },
  {
   "cell_type": "code",
   "execution_count": 17,
   "metadata": {},
   "outputs": [
    {
     "name": "stdout",
     "output_type": "stream",
     "text": [
      "Model: \"sequential_2\"\n",
      "_________________________________________________________________\n",
      " Layer (type)                Output Shape              Param #   \n",
      "=================================================================\n",
      " conv3d_8 (Conv3D)           (None, 30, 60, 60, 32)    2624      \n",
      "                                                                 \n",
      " activation_8 (Activation)   (None, 30, 60, 60, 32)    0         \n",
      "                                                                 \n",
      " conv3d_9 (Conv3D)           (None, 30, 60, 60, 32)    27680     \n",
      "                                                                 \n",
      " activation_9 (Activation)   (None, 30, 60, 60, 32)    0         \n",
      "                                                                 \n",
      " max_pooling3d_6 (MaxPooling  (None, 10, 20, 20, 32)   0         \n",
      " 3D)                                                             \n",
      "                                                                 \n",
      " dropout_5 (Dropout)         (None, 10, 20, 20, 32)    0         \n",
      "                                                                 \n",
      " conv3d_10 (Conv3D)          (None, 10, 20, 20, 64)    55360     \n",
      "                                                                 \n",
      " activation_10 (Activation)  (None, 10, 20, 20, 64)    0         \n",
      "                                                                 \n",
      " conv3d_11 (Conv3D)          (None, 10, 20, 20, 64)    110656    \n",
      "                                                                 \n",
      " activation_11 (Activation)  (None, 10, 20, 20, 64)    0         \n",
      "                                                                 \n",
      " max_pooling3d_7 (MaxPooling  (None, 4, 7, 7, 64)      0         \n",
      " 3D)                                                             \n",
      "                                                                 \n",
      " dropout_6 (Dropout)         (None, 4, 7, 7, 64)       0         \n",
      "                                                                 \n",
      " flatten_2 (Flatten)         (None, 12544)             0         \n",
      "                                                                 \n",
      " dense_5 (Dense)             (None, 512)               6423040   \n",
      "                                                                 \n",
      " dropout_7 (Dropout)         (None, 512)               0         \n",
      "                                                                 \n",
      " dense_6 (Dense)             (None, 5)                 2565      \n",
      "                                                                 \n",
      "=================================================================\n",
      "Total params: 6,621,925\n",
      "Trainable params: 6,621,925\n",
      "Non-trainable params: 0\n",
      "_________________________________________________________________\n"
     ]
    }
   ],
   "source": [
    "x = 30 # number of frames\n",
    "y = 60 # image width\n",
    "z = 60 # image height\n",
    "\n",
    "# Define model b\n",
    "model_b = Sequential()\n",
    "model_b.add(Conv3D(32, kernel_size=(3, 3, 3), input_shape=(x,y,z,channel), padding='same'))\n",
    "model_b.add(Activation('relu'))\n",
    "model_b.add(Conv3D(32, kernel_size=(3, 3, 3), padding='same'))\n",
    "model_b.add(Activation('relu'))\n",
    "model_b.add(MaxPooling3D(pool_size=(3, 3, 3), padding='same'))\n",
    "model_b.add(Dropout(0.25))\n",
    "\n",
    "model_b.add(Conv3D(64, kernel_size=(3, 3, 3), padding='same'))\n",
    "model_b.add(Activation('relu'))\n",
    "model_b.add(Conv3D(64, kernel_size=(3, 3, 3), padding='same'))\n",
    "model_b.add(Activation('relu'))\n",
    "model_b.add(MaxPooling3D(pool_size=(3, 3, 3), padding='same'))\n",
    "model_b.add(Dropout(0.25))\n",
    "\n",
    "model_b.add(Flatten())\n",
    "model_b.add(Dense(512, activation='relu'))\n",
    "model_b.add(Dropout(0.5))\n",
    "model_b.add(Dense(classes, activation='softmax'))\n",
    "\n",
    "model_b.compile(optimizer=tf.keras.optimizers.Adam(), loss='categorical_crossentropy', metrics=['categorical_accuracy'])\n",
    "model_b.summary()"
   ]
  },
  {
   "cell_type": "code",
   "execution_count": 18,
   "metadata": {},
   "outputs": [],
   "source": [
    "train_generator = generator_ex(train_path, train_doc, batch_size)\n",
    "val_generator = generator_ex(val_path, val_doc, batch_size)"
   ]
  },
  {
   "cell_type": "code",
   "execution_count": 32,
   "metadata": {},
   "outputs": [
    {
     "name": "stdout",
     "output_type": "stream",
     "text": [
      "Source path =  /home/datasets/Project_data/train ; batch size = 10\n",
      "Epoch 1/10\n",
      "65/67 [============================>.] - ETA: 35s - loss: 1.6127 - categorical_accuracy: 0.2231Batch:  67 Index: 10\n",
      "67/67 [==============================] - ETA: 0s - loss: 1.6108 - categorical_accuracy: 0.2247 Source path =  /home/datasets/Project_data/val ; batch size = 10\n",
      "\n",
      "Epoch 00001: saving model to model_init_2022-08-2111_10_16.876385/model-00001-1.61082-0.22474-1.47694-0.37000.h5\n",
      "67/67 [==============================] - 1242s 19s/step - loss: 1.6108 - categorical_accuracy: 0.2247 - val_loss: 1.4769 - val_categorical_accuracy: 0.3700 - lr: 0.0010\n",
      "Epoch 2/10\n",
      "67/67 [==============================] - ETA: 0s - loss: 1.5575 - categorical_accuracy: 0.2587\n",
      "Epoch 00002: saving model to model_init_2022-08-2111_10_16.876385/model-00002-1.55750-0.25871-1.51619-0.20000.h5\n",
      "67/67 [==============================] - 441s 7s/step - loss: 1.5575 - categorical_accuracy: 0.2587 - val_loss: 1.5162 - val_categorical_accuracy: 0.2000 - lr: 0.0010\n",
      "Epoch 3/10\n",
      "67/67 [==============================] - ETA: 0s - loss: 1.5387 - categorical_accuracy: 0.2736\n",
      "Epoch 00003: saving model to model_init_2022-08-2111_10_16.876385/model-00003-1.53872-0.27363-1.47268-0.38000.h5\n",
      "67/67 [==============================] - 458s 7s/step - loss: 1.5387 - categorical_accuracy: 0.2736 - val_loss: 1.4727 - val_categorical_accuracy: 0.3800 - lr: 0.0010\n",
      "Epoch 4/10\n",
      "67/67 [==============================] - ETA: 0s - loss: 1.3445 - categorical_accuracy: 0.4279\n",
      "Epoch 00004: saving model to model_init_2022-08-2111_10_16.876385/model-00004-1.34450-0.42786-1.11817-0.63000.h5\n",
      "67/67 [==============================] - 454s 7s/step - loss: 1.3445 - categorical_accuracy: 0.4279 - val_loss: 1.1182 - val_categorical_accuracy: 0.6300 - lr: 0.0010\n",
      "Epoch 5/10\n",
      "67/67 [==============================] - ETA: 0s - loss: 1.0693 - categorical_accuracy: 0.6169\n",
      "Epoch 00005: saving model to model_init_2022-08-2111_10_16.876385/model-00005-1.06928-0.61692-1.05722-0.58000.h5\n",
      "67/67 [==============================] - 457s 7s/step - loss: 1.0693 - categorical_accuracy: 0.6169 - val_loss: 1.0572 - val_categorical_accuracy: 0.5800 - lr: 0.0010\n",
      "Epoch 6/10\n",
      "67/67 [==============================] - ETA: 0s - loss: 1.1230 - categorical_accuracy: 0.5423\n",
      "Epoch 00006: saving model to model_init_2022-08-2111_10_16.876385/model-00006-1.12302-0.54229-1.08892-0.50000.h5\n",
      "67/67 [==============================] - 461s 7s/step - loss: 1.1230 - categorical_accuracy: 0.5423 - val_loss: 1.0889 - val_categorical_accuracy: 0.5000 - lr: 0.0010\n",
      "Epoch 7/10\n",
      "67/67 [==============================] - ETA: 0s - loss: 1.1265 - categorical_accuracy: 0.5721\n",
      "Epoch 00007: saving model to model_init_2022-08-2111_10_16.876385/model-00007-1.12655-0.57214-1.03135-0.64000.h5\n",
      "67/67 [==============================] - 454s 7s/step - loss: 1.1265 - categorical_accuracy: 0.5721 - val_loss: 1.0314 - val_categorical_accuracy: 0.6400 - lr: 0.0010\n",
      "Epoch 8/10\n",
      "67/67 [==============================] - ETA: 0s - loss: 0.9533 - categorical_accuracy: 0.5920\n",
      "Epoch 00008: saving model to model_init_2022-08-2111_10_16.876385/model-00008-0.95327-0.59204-0.88086-0.68000.h5\n",
      "67/67 [==============================] - 442s 7s/step - loss: 0.9533 - categorical_accuracy: 0.5920 - val_loss: 0.8809 - val_categorical_accuracy: 0.6800 - lr: 0.0010\n",
      "Epoch 9/10\n",
      "67/67 [==============================] - ETA: 0s - loss: 0.9626 - categorical_accuracy: 0.5920\n",
      "Epoch 00009: saving model to model_init_2022-08-2111_10_16.876385/model-00009-0.96262-0.59204-1.29445-0.54000.h5\n",
      "67/67 [==============================] - 439s 7s/step - loss: 0.9626 - categorical_accuracy: 0.5920 - val_loss: 1.2944 - val_categorical_accuracy: 0.5400 - lr: 0.0010\n",
      "Epoch 10/10\n",
      "67/67 [==============================] - ETA: 0s - loss: 0.8672 - categorical_accuracy: 0.6816\n",
      "Epoch 00010: saving model to model_init_2022-08-2111_10_16.876385/model-00010-0.86723-0.68159-0.85609-0.64000.h5\n",
      "67/67 [==============================] - 433s 6s/step - loss: 0.8672 - categorical_accuracy: 0.6816 - val_loss: 0.8561 - val_categorical_accuracy: 0.6400 - lr: 0.0010\n"
     ]
    },
    {
     "data": {
      "text/plain": [
       "<keras.callbacks.History at 0x7f6b90bdea90>"
      ]
     },
     "execution_count": 32,
     "metadata": {},
     "output_type": "execute_result"
    }
   ],
   "source": [
    "model_b.fit(train_generator, steps_per_epoch=steps_per_epoch, epochs=num_epochs, verbose=1, \n",
    "                    callbacks=callbacks_list, validation_data=val_generator, \n",
    "                    validation_steps=validation_steps, class_weight=None, workers=1, initial_epoch=0)"
   ]
  },
  {
   "cell_type": "code",
   "execution_count": 19,
   "metadata": {},
   "outputs": [],
   "source": [
    "train_generator = generator_ex(train_path, train_doc, 20)\n",
    "val_generator = generator_ex(val_path, val_doc, 20)"
   ]
  },
  {
   "cell_type": "code",
   "execution_count": 20,
   "metadata": {},
   "outputs": [
    {
     "name": "stdout",
     "output_type": "stream",
     "text": [
      "Source path =  /home/datasets/Project_data/train ; batch size = 20\n",
      "Epoch 1/10\n",
      "32/67 [=============>................] - ETA: 21:17 - loss: 0.6224 - categorical_accuracy: 0.7484Batch:  34 Index: 20\n",
      "67/67 [==============================] - ETA: 0s - loss: 0.6174 - categorical_accuracy: 0.7454 Source path =  /home/datasets/Project_data/val ; batch size = 20\n",
      "\n",
      "Epoch 00001: saving model to model_init_2022-08-2106_33_24.710306/model-00001-0.61740-0.74541-0.95090-0.69000.h5\n",
      "67/67 [==============================] - 1517s 22s/step - loss: 0.6174 - categorical_accuracy: 0.7454 - val_loss: 0.9509 - val_categorical_accuracy: 0.6900 - lr: 0.0010\n",
      "Epoch 2/10\n",
      "67/67 [==============================] - ETA: 0s - loss: 0.5890 - categorical_accuracy: 0.8209\n",
      "Epoch 00002: saving model to model_init_2022-08-2106_33_24.710306/model-00002-0.58903-0.82090-0.62669-0.77500.h5\n",
      "67/67 [==============================] - 499s 7s/step - loss: 0.5890 - categorical_accuracy: 0.8209 - val_loss: 0.6267 - val_categorical_accuracy: 0.7750 - lr: 0.0010\n",
      "Epoch 3/10\n",
      "67/67 [==============================] - ETA: 0s - loss: 0.5871 - categorical_accuracy: 0.7811\n",
      "Epoch 00003: saving model to model_init_2022-08-2106_33_24.710306/model-00003-0.58714-0.78109-0.83644-0.68500.h5\n",
      "67/67 [==============================] - 512s 8s/step - loss: 0.5871 - categorical_accuracy: 0.7811 - val_loss: 0.8364 - val_categorical_accuracy: 0.6850 - lr: 0.0010\n",
      "Epoch 4/10\n",
      "67/67 [==============================] - ETA: 0s - loss: 0.6047 - categorical_accuracy: 0.7562\n",
      "Epoch 00004: saving model to model_init_2022-08-2106_33_24.710306/model-00004-0.60468-0.75622-1.21909-0.61000.h5\n",
      "\n",
      "Epoch 00004: ReduceLROnPlateau reducing learning rate to 0.0005000000237487257.\n",
      "67/67 [==============================] - 499s 7s/step - loss: 0.6047 - categorical_accuracy: 0.7562 - val_loss: 1.2191 - val_categorical_accuracy: 0.6100 - lr: 0.0010\n",
      "Epoch 5/10\n",
      "67/67 [==============================] - ETA: 0s - loss: 0.4249 - categorical_accuracy: 0.8507\n",
      "Epoch 00005: saving model to model_init_2022-08-2106_33_24.710306/model-00005-0.42494-0.85075-0.79390-0.77000.h5\n",
      "67/67 [==============================] - 494s 7s/step - loss: 0.4249 - categorical_accuracy: 0.8507 - val_loss: 0.7939 - val_categorical_accuracy: 0.7700 - lr: 5.0000e-04\n",
      "Epoch 6/10\n",
      "67/67 [==============================] - ETA: 0s - loss: 0.4236 - categorical_accuracy: 0.8856\n",
      "Epoch 00006: saving model to model_init_2022-08-2106_33_24.710306/model-00006-0.42362-0.88557-0.70741-0.74000.h5\n",
      "\n",
      "Epoch 00006: ReduceLROnPlateau reducing learning rate to 0.0002500000118743628.\n",
      "67/67 [==============================] - 477s 7s/step - loss: 0.4236 - categorical_accuracy: 0.8856 - val_loss: 0.7074 - val_categorical_accuracy: 0.7400 - lr: 5.0000e-04\n",
      "Epoch 7/10\n",
      "67/67 [==============================] - ETA: 0s - loss: 0.2847 - categorical_accuracy: 0.9055\n",
      "Epoch 00007: saving model to model_init_2022-08-2106_33_24.710306/model-00007-0.28472-0.90547-0.67761-0.78000.h5\n",
      "67/67 [==============================] - 477s 7s/step - loss: 0.2847 - categorical_accuracy: 0.9055 - val_loss: 0.6776 - val_categorical_accuracy: 0.7800 - lr: 2.5000e-04\n",
      "Epoch 8/10\n",
      "67/67 [==============================] - ETA: 0s - loss: 0.1821 - categorical_accuracy: 0.9502\n",
      "Epoch 00008: saving model to model_init_2022-08-2106_33_24.710306/model-00008-0.18209-0.95025-0.60643-0.78500.h5\n",
      "67/67 [==============================] - 480s 7s/step - loss: 0.1821 - categorical_accuracy: 0.9502 - val_loss: 0.6064 - val_categorical_accuracy: 0.7850 - lr: 2.5000e-04\n",
      "Epoch 9/10\n",
      "67/67 [==============================] - ETA: 0s - loss: 0.2224 - categorical_accuracy: 0.9104\n",
      "Epoch 00009: saving model to model_init_2022-08-2106_33_24.710306/model-00009-0.22235-0.91045-0.64654-0.79000.h5\n",
      "67/67 [==============================] - 478s 7s/step - loss: 0.2224 - categorical_accuracy: 0.9104 - val_loss: 0.6465 - val_categorical_accuracy: 0.7900 - lr: 2.5000e-04\n",
      "Epoch 10/10\n",
      "67/67 [==============================] - ETA: 0s - loss: 0.1270 - categorical_accuracy: 0.9602\n",
      "Epoch 00010: saving model to model_init_2022-08-2106_33_24.710306/model-00010-0.12703-0.96020-0.63640-0.79500.h5\n",
      "\n",
      "Epoch 00010: ReduceLROnPlateau reducing learning rate to 0.0001250000059371814.\n",
      "67/67 [==============================] - 477s 7s/step - loss: 0.1270 - categorical_accuracy: 0.9602 - val_loss: 0.6364 - val_categorical_accuracy: 0.7950 - lr: 2.5000e-04\n"
     ]
    },
    {
     "data": {
      "text/plain": [
       "<keras.callbacks.History at 0x7f5126aa2640>"
      ]
     },
     "execution_count": 20,
     "metadata": {},
     "output_type": "execute_result"
    }
   ],
   "source": [
    "model_b.fit(train_generator, steps_per_epoch=steps_per_epoch, epochs=num_epochs, verbose=1, \n",
    "                    callbacks=callbacks_list, validation_data=val_generator, \n",
    "                    validation_steps=validation_steps, class_weight=None, workers=1, initial_epoch=0)"
   ]
  },
  {
   "cell_type": "code",
   "execution_count": 20,
   "metadata": {},
   "outputs": [],
   "source": [
    "train_generator = generator_ex(train_path, train_doc, 10)\n",
    "val_generator = generator_ex(val_path, val_doc, 10)"
   ]
  },
  {
   "cell_type": "code",
   "execution_count": 24,
   "metadata": {},
   "outputs": [
    {
     "name": "stdout",
     "output_type": "stream",
     "text": [
      "Source path =  /home/datasets/Project_data/train ; batch size = 10\n",
      "Epoch 1/10\n",
      "65/67 [============================>.] - ETA: 37s - loss: 1.6127 - categorical_accuracy: 0.2231Batch:  67 Index: 10\n",
      "67/67 [==============================] - ETA: 0s - loss: 1.6108 - categorical_accuracy: 0.2247 Source path =  /home/datasets/Project_data/val ; batch size = 10\n",
      "\n",
      "Epoch 00001: saving model to model_init_2022-08-2112_46_17.878532/model-00001-1.61082-0.22474-1.47694-0.37000.h5\n",
      "67/67 [==============================] - 1302s 19s/step - loss: 1.6108 - categorical_accuracy: 0.2247 - val_loss: 1.4769 - val_categorical_accuracy: 0.3700 - lr: 0.0010\n",
      "Epoch 2/10\n",
      "67/67 [==============================] - ETA: 0s - loss: 1.5575 - categorical_accuracy: 0.2587\n",
      "Epoch 00002: saving model to model_init_2022-08-2112_46_17.878532/model-00002-1.55750-0.25871-1.51619-0.20000.h5\n",
      "67/67 [==============================] - 441s 7s/step - loss: 1.5575 - categorical_accuracy: 0.2587 - val_loss: 1.5162 - val_categorical_accuracy: 0.2000 - lr: 0.0010\n",
      "Epoch 3/10\n",
      "67/67 [==============================] - ETA: 0s - loss: 1.5387 - categorical_accuracy: 0.2736\n",
      "Epoch 00003: saving model to model_init_2022-08-2112_46_17.878532/model-00003-1.53872-0.27363-1.47268-0.38000.h5\n",
      "67/67 [==============================] - 432s 6s/step - loss: 1.5387 - categorical_accuracy: 0.2736 - val_loss: 1.4727 - val_categorical_accuracy: 0.3800 - lr: 0.0010\n",
      "Epoch 4/10\n",
      "67/67 [==============================] - ETA: 0s - loss: 1.3445 - categorical_accuracy: 0.4279\n",
      "Epoch 00004: saving model to model_init_2022-08-2112_46_17.878532/model-00004-1.34450-0.42786-1.11817-0.63000.h5\n",
      "67/67 [==============================] - 429s 6s/step - loss: 1.3445 - categorical_accuracy: 0.4279 - val_loss: 1.1182 - val_categorical_accuracy: 0.6300 - lr: 0.0010\n",
      "Epoch 5/10\n",
      "67/67 [==============================] - ETA: 0s - loss: 1.0693 - categorical_accuracy: 0.6169\n",
      "Epoch 00005: saving model to model_init_2022-08-2112_46_17.878532/model-00005-1.06928-0.61692-1.05722-0.58000.h5\n",
      "67/67 [==============================] - 445s 7s/step - loss: 1.0693 - categorical_accuracy: 0.6169 - val_loss: 1.0572 - val_categorical_accuracy: 0.5800 - lr: 0.0010\n",
      "Epoch 6/10\n",
      "67/67 [==============================] - ETA: 0s - loss: 1.1230 - categorical_accuracy: 0.5423\n",
      "Epoch 00006: saving model to model_init_2022-08-2112_46_17.878532/model-00006-1.12302-0.54229-1.08892-0.50000.h5\n",
      "67/67 [==============================] - 439s 7s/step - loss: 1.1230 - categorical_accuracy: 0.5423 - val_loss: 1.0889 - val_categorical_accuracy: 0.5000 - lr: 0.0010\n",
      "Epoch 7/10\n",
      "67/67 [==============================] - ETA: 0s - loss: 1.1265 - categorical_accuracy: 0.5721\n",
      "Epoch 00007: saving model to model_init_2022-08-2112_46_17.878532/model-00007-1.12655-0.57214-1.03135-0.64000.h5\n",
      "67/67 [==============================] - 425s 6s/step - loss: 1.1265 - categorical_accuracy: 0.5721 - val_loss: 1.0314 - val_categorical_accuracy: 0.6400 - lr: 0.0010\n",
      "Epoch 8/10\n",
      "67/67 [==============================] - ETA: 0s - loss: 0.9533 - categorical_accuracy: 0.5920\n",
      "Epoch 00008: saving model to model_init_2022-08-2112_46_17.878532/model-00008-0.95327-0.59204-0.88086-0.68000.h5\n",
      "67/67 [==============================] - 424s 6s/step - loss: 0.9533 - categorical_accuracy: 0.5920 - val_loss: 0.8809 - val_categorical_accuracy: 0.6800 - lr: 0.0010\n",
      "Epoch 9/10\n",
      "67/67 [==============================] - ETA: 0s - loss: 0.9626 - categorical_accuracy: 0.5920\n",
      "Epoch 00009: saving model to model_init_2022-08-2112_46_17.878532/model-00009-0.96262-0.59204-1.29445-0.54000.h5\n",
      "67/67 [==============================] - 433s 6s/step - loss: 0.9626 - categorical_accuracy: 0.5920 - val_loss: 1.2944 - val_categorical_accuracy: 0.5400 - lr: 0.0010\n",
      "Epoch 10/10\n",
      "67/67 [==============================] - ETA: 0s - loss: 0.8672 - categorical_accuracy: 0.6816\n",
      "Epoch 00010: saving model to model_init_2022-08-2112_46_17.878532/model-00010-0.86723-0.68159-0.85609-0.64000.h5\n",
      "67/67 [==============================] - 415s 6s/step - loss: 0.8672 - categorical_accuracy: 0.6816 - val_loss: 0.8561 - val_categorical_accuracy: 0.6400 - lr: 0.0010\n"
     ]
    },
    {
     "data": {
      "text/plain": [
       "<keras.callbacks.History at 0x7f9bf48e49d0>"
      ]
     },
     "execution_count": 24,
     "metadata": {},
     "output_type": "execute_result"
    }
   ],
   "source": [
    "model_b.fit(train_generator, steps_per_epoch=steps_per_epoch, epochs=num_epochs, verbose=1, \n",
    "                    callbacks=callbacks_list, validation_data=val_generator, \n",
    "                    validation_steps=validation_steps, class_weight=None, workers=1, initial_epoch=0)"
   ]
  },
  {
   "cell_type": "code",
   "execution_count": 21,
   "metadata": {},
   "outputs": [],
   "source": [
    "train_generator = generator_ex(train_path, train_doc, 15)\n",
    "val_generator = generator_ex(val_path, val_doc, 15)"
   ]
  },
  {
   "cell_type": "code",
   "execution_count": null,
   "metadata": {},
   "outputs": [
    {
     "name": "stdout",
     "output_type": "stream",
     "text": [
      "Source path =  /home/datasets/Project_data/train ; batch size = 15\n",
      "Epoch 1/10\n",
      "43/67 [==================>...........] - ETA: 10:38 - loss: 0.5905 - categorical_accuracy: 0.7767Batch:  45 Index: 15\n",
      "67/67 [==============================] - ETA: 0s - loss: 0.5647 - categorical_accuracy: 0.7860 Source path =  /home/datasets/Project_data/val ; batch size = 15\n",
      "Batch:  7 Index: 15\n",
      "\n",
      "Epoch 00001: saving model to model_init_2022-08-2112_46_17.878532/model-00001-0.56474-0.78601-0.89761-0.71538.h5\n",
      "67/67 [==============================] - 1373s 20s/step - loss: 0.5647 - categorical_accuracy: 0.7860 - val_loss: 0.8976 - val_categorical_accuracy: 0.7154 - lr: 0.0010\n",
      "Epoch 2/10\n",
      "67/67 [==============================] - ETA: 0s - loss: 0.6292 - categorical_accuracy: 0.7562\n",
      "Epoch 00002: saving model to model_init_2022-08-2112_46_17.878532/model-00002-0.62918-0.75622-0.83850-0.73000.h5\n",
      "67/67 [==============================] - 421s 6s/step - loss: 0.6292 - categorical_accuracy: 0.7562 - val_loss: 0.8385 - val_categorical_accuracy: 0.7300 - lr: 0.0010\n",
      "Epoch 3/10\n",
      "19/67 [=======>......................] - ETA: 4:16 - loss: 0.5896 - categorical_accuracy: 0.7719"
     ]
    }
   ],
   "source": [
    "model_b.fit(train_generator, steps_per_epoch=steps_per_epoch, epochs=num_epochs, verbose=1, \n",
    "                    callbacks=callbacks_list, validation_data=val_generator, \n",
    "                    validation_steps=validation_steps, class_weight=None, workers=1, initial_epoch=0)"
   ]
  },
  {
   "cell_type": "code",
   "execution_count": 22,
   "metadata": {},
   "outputs": [
    {
     "name": "stdout",
     "output_type": "stream",
     "text": [
      "Model: \"sequential_2\"\n",
      "_________________________________________________________________\n",
      " Layer (type)                Output Shape              Param #   \n",
      "=================================================================\n",
      " conv3d_8 (Conv3D)           (None, 30, 60, 60, 32)    2624      \n",
      "                                                                 \n",
      " activation_8 (Activation)   (None, 30, 60, 60, 32)    0         \n",
      "                                                                 \n",
      " conv3d_9 (Conv3D)           (None, 30, 60, 60, 32)    27680     \n",
      "                                                                 \n",
      " activation_9 (Activation)   (None, 30, 60, 60, 32)    0         \n",
      "                                                                 \n",
      " max_pooling3d_6 (MaxPooling  (None, 10, 20, 20, 32)   0         \n",
      " 3D)                                                             \n",
      "                                                                 \n",
      " dropout_5 (Dropout)         (None, 10, 20, 20, 32)    0         \n",
      "                                                                 \n",
      " conv3d_10 (Conv3D)          (None, 10, 20, 20, 64)    55360     \n",
      "                                                                 \n",
      " activation_10 (Activation)  (None, 10, 20, 20, 64)    0         \n",
      "                                                                 \n",
      " conv3d_11 (Conv3D)          (None, 10, 20, 20, 64)    110656    \n",
      "                                                                 \n",
      " activation_11 (Activation)  (None, 10, 20, 20, 64)    0         \n",
      "                                                                 \n",
      " max_pooling3d_7 (MaxPooling  (None, 4, 7, 7, 64)      0         \n",
      " 3D)                                                             \n",
      "                                                                 \n",
      " dropout_6 (Dropout)         (None, 4, 7, 7, 64)       0         \n",
      "                                                                 \n",
      " flatten_2 (Flatten)         (None, 12544)             0         \n",
      "                                                                 \n",
      " dense_5 (Dense)             (None, 512)               6423040   \n",
      "                                                                 \n",
      " dropout_7 (Dropout)         (None, 512)               0         \n",
      "                                                                 \n",
      " dense_6 (Dense)             (None, 5)                 2565      \n",
      "                                                                 \n",
      "=================================================================\n",
      "Total params: 6,621,925\n",
      "Trainable params: 6,621,925\n",
      "Non-trainable params: 0\n",
      "_________________________________________________________________\n"
     ]
    }
   ],
   "source": [
    "model_b.compile(optimizer=tf.keras.optimizers.Adadelta(), loss='categorical_crossentropy', metrics=['categorical_accuracy'])\n",
    "model_b.summary()"
   ]
  },
  {
   "cell_type": "code",
   "execution_count": 23,
   "metadata": {},
   "outputs": [],
   "source": [
    "train_generator = generator_ex(train_path, train_doc, 16)\n",
    "val_generator = generator_ex(val_path, val_doc, 16)"
   ]
  },
  {
   "cell_type": "code",
   "execution_count": 21,
   "metadata": {},
   "outputs": [
    {
     "name": "stderr",
     "output_type": "stream",
     "text": [
      "/tmp/ipykernel_453/3161962229.py:1: UserWarning: `Model.fit_generator` is deprecated and will be removed in a future version. Please use `Model.fit`, which supports generators.\n",
      "  model_b.fit_generator(train_generator, steps_per_epoch=steps_per_epoch, epochs=num_epochs, verbose=1,\n"
     ]
    },
    {
     "name": "stdout",
     "output_type": "stream",
     "text": [
      "Source path =  /home/datasets/Project_data/train ; batch size = 16\n",
      "Epoch 1/10\n",
      "40/67 [================>.............] - ETA: 12:11 - loss: 1.6555 - categorical_accuracy: 0.1875Batch:  42 Index: 16\n",
      "67/67 [==============================] - ETA: 0s - loss: 1.6511 - categorical_accuracy: 0.1838 Source path =  /home/datasets/Project_data/val ; batch size = 16\n",
      "Batch:  7 Index: 16\n",
      "\n",
      "Epoch 00001: saving model to model_init_2022-08-2115_22_44.027774/model-00001-1.65113-0.18377-1.60919-0.24107.h5\n",
      "67/67 [==============================] - 1518s 23s/step - loss: 1.6511 - categorical_accuracy: 0.1838 - val_loss: 1.6092 - val_categorical_accuracy: 0.2411 - lr: 0.0010\n",
      "Epoch 2/10\n",
      "67/67 [==============================] - ETA: 0s - loss: 1.6291 - categorical_accuracy: 0.2026 \n",
      "Epoch 00002: saving model to model_init_2022-08-2115_22_44.027774/model-00002-1.62913-0.20256-1.60805-0.22500.h5\n",
      "67/67 [==============================] - 832s 12s/step - loss: 1.6291 - categorical_accuracy: 0.2026 - val_loss: 1.6080 - val_categorical_accuracy: 0.2250 - lr: 0.0010\n",
      "Epoch 3/10\n",
      " 1/67 [..............................] - ETA: 13:52 - loss: 1.5928 - categorical_accuracy: 0.4286Batch:  95 Index: 7\n",
      "67/67 [==============================] - ETA: 0s - loss: 1.6284 - categorical_accuracy: 0.1947\n",
      "Epoch 00003: saving model to model_init_2022-08-2115_22_44.027774/model-00003-1.62844-0.19469-1.60359-0.27500.h5\n",
      "67/67 [==============================] - 628s 9s/step - loss: 1.6284 - categorical_accuracy: 0.1947 - val_loss: 1.6036 - val_categorical_accuracy: 0.2750 - lr: 0.0010\n",
      "Epoch 4/10\n",
      "67/67 [==============================] - ETA: 0s - loss: 1.6235 - categorical_accuracy: 0.1821\n",
      "Epoch 00004: saving model to model_init_2022-08-2115_22_44.027774/model-00004-1.62351-0.18209-1.58405-0.30000.h5\n",
      "67/67 [==============================] - 636s 10s/step - loss: 1.6235 - categorical_accuracy: 0.1821 - val_loss: 1.5841 - val_categorical_accuracy: 0.3000 - lr: 0.0010\n",
      "Epoch 5/10\n",
      "Batch:  133 Index: 5\n",
      "67/67 [==============================] - ETA: 0s - loss: 1.6271 - categorical_accuracy: 0.1527\n",
      "Epoch 00005: saving model to model_init_2022-08-2115_22_44.027774/model-00005-1.62707-0.15271-1.59299-0.25000.h5\n",
      "67/67 [==============================] - 408s 6s/step - loss: 1.6271 - categorical_accuracy: 0.1527 - val_loss: 1.5930 - val_categorical_accuracy: 0.2500 - lr: 0.0010\n",
      "Epoch 6/10\n",
      "67/67 [==============================] - ETA: 0s - loss: 1.6133 - categorical_accuracy: 0.1791\n",
      "Epoch 00006: saving model to model_init_2022-08-2115_22_44.027774/model-00006-1.61327-0.17910-1.61402-0.17500.h5\n",
      "\n",
      "Epoch 00006: ReduceLROnPlateau reducing learning rate to 0.0005000000237487257.\n",
      "67/67 [==============================] - 402s 6s/step - loss: 1.6133 - categorical_accuracy: 0.1791 - val_loss: 1.6140 - val_categorical_accuracy: 0.1750 - lr: 0.0010\n",
      "Epoch 7/10\n",
      "67/67 [==============================] - ETA: 0s - loss: 1.6083 - categorical_accuracy: 0.2338\n",
      "Epoch 00007: saving model to model_init_2022-08-2115_22_44.027774/model-00007-1.60826-0.23383-1.56365-0.37500.h5\n",
      "67/67 [==============================] - 405s 6s/step - loss: 1.6083 - categorical_accuracy: 0.2338 - val_loss: 1.5636 - val_categorical_accuracy: 0.3750 - lr: 5.0000e-04\n",
      "Epoch 8/10\n",
      "67/67 [==============================] - ETA: 0s - loss: 1.5638 - categorical_accuracy: 0.2637\n",
      "Epoch 00008: saving model to model_init_2022-08-2115_22_44.027774/model-00008-1.56381-0.26368-1.59563-0.27500.h5\n",
      "67/67 [==============================] - 406s 6s/step - loss: 1.5638 - categorical_accuracy: 0.2637 - val_loss: 1.5956 - val_categorical_accuracy: 0.2750 - lr: 5.0000e-04\n",
      "Epoch 9/10\n",
      "67/67 [==============================] - ETA: 0s - loss: 1.6029 - categorical_accuracy: 0.2736\n",
      "Epoch 00009: saving model to model_init_2022-08-2115_22_44.027774/model-00009-1.60287-0.27363-1.59861-0.15000.h5\n",
      "\n",
      "Epoch 00009: ReduceLROnPlateau reducing learning rate to 0.0002500000118743628.\n",
      "67/67 [==============================] - 413s 6s/step - loss: 1.6029 - categorical_accuracy: 0.2736 - val_loss: 1.5986 - val_categorical_accuracy: 0.1500 - lr: 5.0000e-04\n",
      "Epoch 10/10\n",
      "67/67 [==============================] - ETA: 0s - loss: 1.6278 - categorical_accuracy: 0.2090\n",
      "Epoch 00010: saving model to model_init_2022-08-2115_22_44.027774/model-00010-1.62785-0.20896-1.58544-0.27500.h5\n",
      "67/67 [==============================] - 405s 6s/step - loss: 1.6278 - categorical_accuracy: 0.2090 - val_loss: 1.5854 - val_categorical_accuracy: 0.2750 - lr: 2.5000e-04\n"
     ]
    },
    {
     "data": {
      "text/plain": [
       "<keras.callbacks.History at 0x7fd24a86c7f0>"
      ]
     },
     "execution_count": 21,
     "metadata": {},
     "output_type": "execute_result"
    }
   ],
   "source": [
    "model_b.fit_generator(train_generator, steps_per_epoch=steps_per_epoch, epochs=num_epochs, verbose=1, \n",
    "                    callbacks=callbacks_list, validation_data=val_generator, \n",
    "                    validation_steps=validation_steps, class_weight=None, workers=1, initial_epoch=0)"
   ]
  },
  {
   "cell_type": "code",
   "execution_count": 24,
   "metadata": {},
   "outputs": [
    {
     "name": "stdout",
     "output_type": "stream",
     "text": [
      "# epochs = 18\n"
     ]
    }
   ],
   "source": [
    "num_epochs = 18 # choose the number of epochs\n",
    "print ('# epochs =', num_epochs)"
   ]
  },
  {
   "cell_type": "code",
   "execution_count": 25,
   "metadata": {},
   "outputs": [
    {
     "name": "stdout",
     "output_type": "stream",
     "text": [
      "Model: \"sequential_2\"\n",
      "_________________________________________________________________\n",
      " Layer (type)                Output Shape              Param #   \n",
      "=================================================================\n",
      " conv3d_8 (Conv3D)           (None, 30, 60, 60, 32)    2624      \n",
      "                                                                 \n",
      " activation_8 (Activation)   (None, 30, 60, 60, 32)    0         \n",
      "                                                                 \n",
      " conv3d_9 (Conv3D)           (None, 30, 60, 60, 32)    27680     \n",
      "                                                                 \n",
      " activation_9 (Activation)   (None, 30, 60, 60, 32)    0         \n",
      "                                                                 \n",
      " max_pooling3d_6 (MaxPooling  (None, 10, 20, 20, 32)   0         \n",
      " 3D)                                                             \n",
      "                                                                 \n",
      " dropout_5 (Dropout)         (None, 10, 20, 20, 32)    0         \n",
      "                                                                 \n",
      " conv3d_10 (Conv3D)          (None, 10, 20, 20, 64)    55360     \n",
      "                                                                 \n",
      " activation_10 (Activation)  (None, 10, 20, 20, 64)    0         \n",
      "                                                                 \n",
      " conv3d_11 (Conv3D)          (None, 10, 20, 20, 64)    110656    \n",
      "                                                                 \n",
      " activation_11 (Activation)  (None, 10, 20, 20, 64)    0         \n",
      "                                                                 \n",
      " max_pooling3d_7 (MaxPooling  (None, 4, 7, 7, 64)      0         \n",
      " 3D)                                                             \n",
      "                                                                 \n",
      " dropout_6 (Dropout)         (None, 4, 7, 7, 64)       0         \n",
      "                                                                 \n",
      " flatten_2 (Flatten)         (None, 12544)             0         \n",
      "                                                                 \n",
      " dense_5 (Dense)             (None, 512)               6423040   \n",
      "                                                                 \n",
      " dropout_7 (Dropout)         (None, 512)               0         \n",
      "                                                                 \n",
      " dense_6 (Dense)             (None, 5)                 2565      \n",
      "                                                                 \n",
      "=================================================================\n",
      "Total params: 6,621,925\n",
      "Trainable params: 6,621,925\n",
      "Non-trainable params: 0\n",
      "_________________________________________________________________\n"
     ]
    }
   ],
   "source": [
    "import keras\n",
    "model_b.compile(optimizer=tf.keras.optimizers.Adadelta(), loss='categorical_crossentropy', metrics=['categorical_accuracy'])\n",
    "model_b.summary()"
   ]
  },
  {
   "cell_type": "code",
   "execution_count": 26,
   "metadata": {},
   "outputs": [],
   "source": [
    "train_generator = generator_ex(train_path, train_doc, 18)\n",
    "val_generator = generator_ex(val_path, val_doc, 18)"
   ]
  },
  {
   "cell_type": "code",
   "execution_count": null,
   "metadata": {},
   "outputs": [
    {
     "name": "stderr",
     "output_type": "stream",
     "text": [
      "/tmp/ipykernel_453/3161962229.py:1: UserWarning: `Model.fit_generator` is deprecated and will be removed in a future version. Please use `Model.fit`, which supports generators.\n",
      "  model_b.fit_generator(train_generator, steps_per_epoch=steps_per_epoch, epochs=num_epochs, verbose=1,\n"
     ]
    },
    {
     "name": "stdout",
     "output_type": "stream",
     "text": [
      "Source path =  /home/datasets/Project_data/train ; batch size = 18\n",
      "Epoch 1/18\n",
      "35/67 [==============>...............] - ETA: 17:05 - loss: 1.6102 - categorical_accuracy: 0.2111Batch:  37 Index: 18\n",
      "67/67 [==============================] - ETA: 0s - loss: 1.6057 - categorical_accuracy: 0.2120 Source path =  /home/datasets/Project_data/val ; batch size = 18\n",
      "Batch:  6 Index: 18\n",
      "\n",
      "Epoch 00001: saving model to model_init_2022-08-2115_22_44.027774/model-00001-1.60574-0.21204-1.58575-0.25714.h5\n",
      "67/67 [==============================] - 2063s 31s/step - loss: 1.6057 - categorical_accuracy: 0.2120 - val_loss: 1.5857 - val_categorical_accuracy: 0.2571 - lr: 0.0010\n",
      "Epoch 2/18\n",
      "13/67 [====>.........................] - ETA: 23:51 - loss: 1.6073 - categorical_accuracy: 0.2205Batch:  45 Index: 15\n",
      "67/67 [==============================] - ETA: 0s - loss: 1.6114 - categorical_accuracy: 0.2005\n",
      "Epoch 00002: saving model to model_init_2022-08-2115_22_44.027774/model-00002-1.61138-0.20054-1.57708-0.31000.h5\n",
      "67/67 [==============================] - 738s 11s/step - loss: 1.6114 - categorical_accuracy: 0.2005 - val_loss: 1.5771 - val_categorical_accuracy: 0.3100 - lr: 0.0010\n",
      "Epoch 3/18\n",
      "67/67 [==============================] - ETA: 0s - loss: 1.6089 - categorical_accuracy: 0.2090\n",
      "Epoch 00003: saving model to model_init_2022-08-2115_22_44.027774/model-00003-1.60889-0.20896-1.58800-0.26000.h5\n",
      "67/67 [==============================] - 447s 7s/step - loss: 1.6089 - categorical_accuracy: 0.2090 - val_loss: 1.5880 - val_categorical_accuracy: 0.2600 - lr: 0.0010\n",
      "Epoch 4/18\n",
      "67/67 [==============================] - ETA: 0s - loss: 1.6195 - categorical_accuracy: 0.2090\n",
      "Epoch 00004: saving model to model_init_2022-08-2115_22_44.027774/model-00004-1.61948-0.20896-1.57314-0.28000.h5\n",
      "67/67 [==============================] - 433s 6s/step - loss: 1.6195 - categorical_accuracy: 0.2090 - val_loss: 1.5731 - val_categorical_accuracy: 0.2800 - lr: 0.0010\n",
      "Epoch 5/18\n",
      "67/67 [==============================] - ETA: 0s - loss: 1.5809 - categorical_accuracy: 0.2239\n",
      "Epoch 00005: saving model to model_init_2022-08-2115_22_44.027774/model-00005-1.58086-0.22388-1.57576-0.27000.h5\n",
      "67/67 [==============================] - 439s 7s/step - loss: 1.5809 - categorical_accuracy: 0.2239 - val_loss: 1.5758 - val_categorical_accuracy: 0.2700 - lr: 0.0010\n",
      "Epoch 6/18\n",
      "67/67 [==============================] - ETA: 0s - loss: 1.5966 - categorical_accuracy: 0.2338\n",
      "Epoch 00006: saving model to model_init_2022-08-2115_22_44.027774/model-00006-1.59656-0.23383-1.57369-0.29000.h5\n",
      "\n",
      "Epoch 00006: ReduceLROnPlateau reducing learning rate to 0.0005000000237487257.\n",
      "67/67 [==============================] - 448s 7s/step - loss: 1.5966 - categorical_accuracy: 0.2338 - val_loss: 1.5737 - val_categorical_accuracy: 0.2900 - lr: 0.0010\n",
      "Epoch 7/18\n",
      "67/67 [==============================] - ETA: 0s - loss: 1.6100 - categorical_accuracy: 0.2040\n",
      "Epoch 00007: saving model to model_init_2022-08-2115_22_44.027774/model-00007-1.61001-0.20398-1.57692-0.28000.h5\n",
      "67/67 [==============================] - 446s 7s/step - loss: 1.6100 - categorical_accuracy: 0.2040 - val_loss: 1.5769 - val_categorical_accuracy: 0.2800 - lr: 5.0000e-04\n",
      "Epoch 8/18\n",
      "67/67 [==============================] - ETA: 0s - loss: 1.5848 - categorical_accuracy: 0.2637\n",
      "Epoch 00008: saving model to model_init_2022-08-2115_22_44.027774/model-00008-1.58480-0.26368-1.57904-0.25000.h5\n",
      "\n",
      "Epoch 00008: ReduceLROnPlateau reducing learning rate to 0.0002500000118743628.\n",
      "67/67 [==============================] - 446s 7s/step - loss: 1.5848 - categorical_accuracy: 0.2637 - val_loss: 1.5790 - val_categorical_accuracy: 0.2500 - lr: 5.0000e-04\n",
      "Epoch 9/18\n",
      "67/67 [==============================] - ETA: 0s - loss: 1.5758 - categorical_accuracy: 0.2587\n",
      "Epoch 00009: saving model to model_init_2022-08-2115_22_44.027774/model-00009-1.57578-0.25871-1.57359-0.27000.h5\n",
      "67/67 [==============================] - 450s 7s/step - loss: 1.5758 - categorical_accuracy: 0.2587 - val_loss: 1.5736 - val_categorical_accuracy: 0.2700 - lr: 2.5000e-04\n",
      "Epoch 10/18\n",
      "67/67 [==============================] - ETA: 0s - loss: 1.5797 - categorical_accuracy: 0.2488\n",
      "Epoch 00010: saving model to model_init_2022-08-2115_22_44.027774/model-00010-1.57971-0.24876-1.57408-0.27000.h5\n",
      "\n",
      "Epoch 00010: ReduceLROnPlateau reducing learning rate to 0.0001250000059371814.\n",
      "67/67 [==============================] - 445s 7s/step - loss: 1.5797 - categorical_accuracy: 0.2488 - val_loss: 1.5741 - val_categorical_accuracy: 0.2700 - lr: 2.5000e-04\n",
      "Epoch 11/18\n",
      "67/67 [==============================] - ETA: 0s - loss: 1.6094 - categorical_accuracy: 0.2338\n",
      "Epoch 00011: saving model to model_init_2022-08-2115_22_44.027774/model-00011-1.60939-0.23383-1.58111-0.24000.h5\n",
      "67/67 [==============================] - 444s 7s/step - loss: 1.6094 - categorical_accuracy: 0.2338 - val_loss: 1.5811 - val_categorical_accuracy: 0.2400 - lr: 1.2500e-04\n",
      "Epoch 12/18\n",
      "67/67 [==============================] - ETA: 0s - loss: 1.5987 - categorical_accuracy: 0.2139\n",
      "Epoch 00012: saving model to model_init_2022-08-2115_22_44.027774/model-00012-1.59870-0.21393-1.56590-0.30000.h5\n",
      "67/67 [==============================] - 442s 7s/step - loss: 1.5987 - categorical_accuracy: 0.2139 - val_loss: 1.5659 - val_categorical_accuracy: 0.3000 - lr: 1.2500e-04\n",
      "Epoch 13/18\n",
      "67/67 [==============================] - ETA: 0s - loss: 1.5875 - categorical_accuracy: 0.2637\n",
      "Epoch 00013: saving model to model_init_2022-08-2115_22_44.027774/model-00013-1.58754-0.26368-1.57370-0.25000.h5\n",
      "67/67 [==============================] - 449s 7s/step - loss: 1.5875 - categorical_accuracy: 0.2637 - val_loss: 1.5737 - val_categorical_accuracy: 0.2500 - lr: 1.2500e-04\n",
      "Epoch 14/18\n",
      "28/67 [===========>..................] - ETA: 3:43 - loss: 1.6111 - categorical_accuracy: 0.2262"
     ]
    }
   ],
   "source": [
    "model_b.fit_generator(train_generator, steps_per_epoch=steps_per_epoch, epochs=num_epochs, verbose=1, \n",
    "                    callbacks=callbacks_list, validation_data=val_generator, \n",
    "                    validation_steps=validation_steps, class_weight=None, workers=1, initial_epoch=0)"
   ]
  },
  {
   "cell_type": "markdown",
   "metadata": {},
   "source": [
    "#### Model c"
   ]
  },
  {
   "cell_type": "code",
   "execution_count": 27,
   "metadata": {},
   "outputs": [
    {
     "name": "stdout",
     "output_type": "stream",
     "text": [
      "Model: \"sequential_3\"\n",
      "_________________________________________________________________\n",
      " Layer (type)                Output Shape              Param #   \n",
      "=================================================================\n",
      " conv3d_12 (Conv3D)          (None, 30, 60, 60, 32)    2624      \n",
      "                                                                 \n",
      " activation_12 (Activation)  (None, 30, 60, 60, 32)    0         \n",
      "                                                                 \n",
      " conv3d_13 (Conv3D)          (None, 30, 60, 60, 32)    27680     \n",
      "                                                                 \n",
      " activation_13 (Activation)  (None, 30, 60, 60, 32)    0         \n",
      "                                                                 \n",
      " max_pooling3d_8 (MaxPooling  (None, 10, 20, 20, 32)   0         \n",
      " 3D)                                                             \n",
      "                                                                 \n",
      " dropout_8 (Dropout)         (None, 10, 20, 20, 32)    0         \n",
      "                                                                 \n",
      " conv3d_14 (Conv3D)          (None, 10, 20, 20, 64)    55360     \n",
      "                                                                 \n",
      " activation_14 (Activation)  (None, 10, 20, 20, 64)    0         \n",
      "                                                                 \n",
      " conv3d_15 (Conv3D)          (None, 10, 20, 20, 64)    110656    \n",
      "                                                                 \n",
      " activation_15 (Activation)  (None, 10, 20, 20, 64)    0         \n",
      "                                                                 \n",
      " max_pooling3d_9 (MaxPooling  (None, 4, 7, 7, 64)      0         \n",
      " 3D)                                                             \n",
      "                                                                 \n",
      " dropout_9 (Dropout)         (None, 4, 7, 7, 64)       0         \n",
      "                                                                 \n",
      " conv3d_16 (Conv3D)          (None, 4, 7, 7, 64)       110656    \n",
      "                                                                 \n",
      " activation_16 (Activation)  (None, 4, 7, 7, 64)       0         \n",
      "                                                                 \n",
      " conv3d_17 (Conv3D)          (None, 4, 7, 7, 64)       110656    \n",
      "                                                                 \n",
      " activation_17 (Activation)  (None, 4, 7, 7, 64)       0         \n",
      "                                                                 \n",
      " max_pooling3d_10 (MaxPoolin  (None, 2, 3, 3, 64)      0         \n",
      " g3D)                                                            \n",
      "                                                                 \n",
      " dropout_10 (Dropout)        (None, 2, 3, 3, 64)       0         \n",
      "                                                                 \n",
      " flatten_3 (Flatten)         (None, 1152)              0         \n",
      "                                                                 \n",
      " dense_7 (Dense)             (None, 512)               590336    \n",
      "                                                                 \n",
      " batch_normalization_4 (Batc  (None, 512)              2048      \n",
      " hNormalization)                                                 \n",
      "                                                                 \n",
      " dropout_11 (Dropout)        (None, 512)               0         \n",
      "                                                                 \n",
      " dense_8 (Dense)             (None, 5)                 2565      \n",
      "                                                                 \n",
      "=================================================================\n",
      "Total params: 1,012,581\n",
      "Trainable params: 1,011,557\n",
      "Non-trainable params: 1,024\n",
      "_________________________________________________________________\n"
     ]
    }
   ],
   "source": [
    "model_c = Sequential()\n",
    "model_c.add(Conv3D(32, kernel_size=(3, 3, 3), input_shape=(x,y,z,channel), padding=\"same\"))\n",
    "model_c.add(Activation('relu'))\n",
    "model_c.add(Conv3D(32, padding=\"same\", kernel_size=(3, 3, 3)))\n",
    "model_c.add(Activation('relu'))\n",
    "model_c.add(MaxPooling3D(pool_size=(3, 3, 3), padding=\"same\"))\n",
    "model_c.add(Dropout(0.25))\n",
    "\n",
    "model_c.add(Conv3D(64, padding=\"same\", kernel_size=(3, 3, 3)))\n",
    "model_c.add(Activation('relu'))\n",
    "model_c.add(Conv3D(64, padding=\"same\", kernel_size=(3, 3, 3)))\n",
    "model_c.add(Activation('relu'))\n",
    "model_c.add(MaxPooling3D(pool_size=(3, 3, 3), padding=\"same\"))\n",
    "model_c.add(Dropout(0.25))\n",
    "\n",
    "model_c.add(Conv3D(64, padding=\"same\", kernel_size=(3, 3, 3)))\n",
    "model_c.add(Activation('relu'))\n",
    "model_c.add(Conv3D(64, padding=\"same\", kernel_size=(3, 3, 3)))\n",
    "model_c.add(Activation('relu'))\n",
    "model_c.add(MaxPooling3D(pool_size=(3, 3, 3), padding=\"same\"))\n",
    "model_c.add(Dropout(0.25))\n",
    "\n",
    "model_c.add(Flatten())\n",
    "model_c.add(Dense(512, activation='relu'))\n",
    "model_c.add(BatchNormalization())\n",
    "model_c.add(Dropout(0.5))\n",
    "model_c.add(Dense(classes, activation='softmax'))\n",
    "model_c.compile(optimizer=tf.keras.optimizers.Adadelta(), loss='categorical_crossentropy', metrics=['categorical_accuracy'])\n",
    "model_c.summary()"
   ]
  },
  {
   "cell_type": "code",
   "execution_count": 28,
   "metadata": {},
   "outputs": [],
   "source": [
    "# Changing back batch size, images per frame, height and width of image\n",
    "batch_size = 10\n",
    "x = 30 # number of frames\n",
    "y = 120 # image width\n",
    "z = 120# image height\n",
    "num_epochs = 20"
   ]
  },
  {
   "cell_type": "code",
   "execution_count": 29,
   "metadata": {},
   "outputs": [],
   "source": [
    "train_generator = generator_ex(train_path, train_doc, batch_size)\n",
    "val_generator = generator_ex(val_path, val_doc, batch_size)"
   ]
  },
  {
   "cell_type": "markdown",
   "metadata": {},
   "source": [
    "#### Model d"
   ]
  },
  {
   "cell_type": "code",
   "execution_count": 30,
   "metadata": {},
   "outputs": [
    {
     "name": "stdout",
     "output_type": "stream",
     "text": [
      "Model: \"sequential_4\"\n",
      "_________________________________________________________________\n",
      " Layer (type)                Output Shape              Param #   \n",
      "=================================================================\n",
      " conv3d_18 (Conv3D)          (None, 30, 120, 120, 8)   656       \n",
      "                                                                 \n",
      " batch_normalization_5 (Batc  (None, 30, 120, 120, 8)  32        \n",
      " hNormalization)                                                 \n",
      "                                                                 \n",
      " activation_18 (Activation)  (None, 30, 120, 120, 8)   0         \n",
      "                                                                 \n",
      " max_pooling3d_11 (MaxPoolin  (None, 15, 60, 60, 8)    0         \n",
      " g3D)                                                            \n",
      "                                                                 \n",
      " conv3d_19 (Conv3D)          (None, 15, 60, 60, 16)    3472      \n",
      "                                                                 \n",
      " batch_normalization_6 (Batc  (None, 15, 60, 60, 16)   64        \n",
      " hNormalization)                                                 \n",
      "                                                                 \n",
      " activation_19 (Activation)  (None, 15, 60, 60, 16)    0         \n",
      "                                                                 \n",
      " max_pooling3d_12 (MaxPoolin  (None, 7, 30, 30, 16)    0         \n",
      " g3D)                                                            \n",
      "                                                                 \n",
      " conv3d_20 (Conv3D)          (None, 7, 30, 30, 32)     4640      \n",
      "                                                                 \n",
      " batch_normalization_7 (Batc  (None, 7, 30, 30, 32)    128       \n",
      " hNormalization)                                                 \n",
      "                                                                 \n",
      " activation_20 (Activation)  (None, 7, 30, 30, 32)     0         \n",
      "                                                                 \n",
      " max_pooling3d_13 (MaxPoolin  (None, 3, 15, 15, 32)    0         \n",
      " g3D)                                                            \n",
      "                                                                 \n",
      " conv3d_21 (Conv3D)          (None, 3, 15, 15, 64)     18496     \n",
      "                                                                 \n",
      " batch_normalization_8 (Batc  (None, 3, 15, 15, 64)    256       \n",
      " hNormalization)                                                 \n",
      "                                                                 \n",
      " activation_21 (Activation)  (None, 3, 15, 15, 64)     0         \n",
      "                                                                 \n",
      " max_pooling3d_14 (MaxPoolin  (None, 1, 7, 7, 64)      0         \n",
      " g3D)                                                            \n",
      "                                                                 \n",
      " flatten_4 (Flatten)         (None, 3136)              0         \n",
      "                                                                 \n",
      " dense_9 (Dense)             (None, 1000)              3137000   \n",
      "                                                                 \n",
      " dropout_12 (Dropout)        (None, 1000)              0         \n",
      "                                                                 \n",
      " dense_10 (Dense)            (None, 500)               500500    \n",
      "                                                                 \n",
      " dropout_13 (Dropout)        (None, 500)               0         \n",
      "                                                                 \n",
      " dense_11 (Dense)            (None, 5)                 2505      \n",
      "                                                                 \n",
      "=================================================================\n",
      "Total params: 3,667,749\n",
      "Trainable params: 3,667,509\n",
      "Non-trainable params: 240\n",
      "_________________________________________________________________\n"
     ]
    }
   ],
   "source": [
    "input_shape=(x,y,z,channel)\n",
    "\n",
    "nb_filters = [8,16,32,64]\n",
    "nb_dense = [1000, 500, 5]\n",
    "# Define model\n",
    "model_d = Sequential()\n",
    "\n",
    "model_d.add(Conv3D(nb_filters[0], \n",
    "                 kernel_size=(3,3,3), \n",
    "                 input_shape=input_shape,\n",
    "                 padding='same'))\n",
    "model_d.add(BatchNormalization())\n",
    "model_d.add(Activation('relu'))\n",
    "\n",
    "model_d.add(MaxPooling3D(pool_size=(2,2,2)))\n",
    "\n",
    "model_d.add(Conv3D(nb_filters[1], \n",
    "                 kernel_size=(3,3,3), \n",
    "                 padding='same'))\n",
    "model_d.add(BatchNormalization())\n",
    "model_d.add(Activation('relu'))\n",
    "\n",
    "model_d.add(MaxPooling3D(pool_size=(2,2,2)))\n",
    "\n",
    "model_d.add(Conv3D(nb_filters[2], \n",
    "                 kernel_size=(1,3,3), \n",
    "                 padding='same'))\n",
    "model_d.add(BatchNormalization())\n",
    "model_d.add(Activation('relu'))\n",
    "\n",
    "model_d.add(MaxPooling3D(pool_size=(2,2,2)))\n",
    "\n",
    "model_d.add(Conv3D(nb_filters[3], \n",
    "                 kernel_size=(1,3,3), \n",
    "                 padding='same'))\n",
    "model_d.add(BatchNormalization())\n",
    "model_d.add(Activation('relu'))\n",
    "\n",
    "model_d.add(MaxPooling3D(pool_size=(2,2,2)))\n",
    "\n",
    "#Flatten Layers\n",
    "model_d.add(Flatten())\n",
    "\n",
    "model_d.add(Dense(nb_dense[0], activation='relu'))\n",
    "model_d.add(Dropout(0.5))\n",
    "\n",
    "model_d.add(Dense(nb_dense[1], activation='relu'))\n",
    "model_d.add(Dropout(0.5))\n",
    "\n",
    "#softmax layer\n",
    "model_d.add(Dense(nb_dense[2], activation='softmax'))\n",
    "model_d.compile(optimizer=tf.keras.optimizers.Adadelta(), loss='categorical_crossentropy', metrics=['categorical_accuracy'])\n",
    "model_d.summary()"
   ]
  },
  {
   "cell_type": "code",
   "execution_count": 58,
   "metadata": {},
   "outputs": [
    {
     "name": "stderr",
     "output_type": "stream",
     "text": [
      "/tmp/ipykernel_450/3797531445.py:4: UserWarning: `Model.fit_generator` is deprecated and will be removed in a future version. Please use `Model.fit`, which supports generators.\n",
      "  model_d.fit_generator(train_generator, steps_per_epoch=steps_per_epoch, epochs=num_epochs, verbose=1,\n"
     ]
    },
    {
     "name": "stdout",
     "output_type": "stream",
     "text": [
      "Source path =  /home/datasets/Project_data/train ; batch size = 10\n",
      "Epoch 1/10\n",
      "65/67 [============================>.] - ETA: 26s - loss: 2.8354 - categorical_accuracy: 0.2308Batch:  67 Index: 10\n",
      "67/67 [==============================] - ETA: 0s - loss: 2.8321 - categorical_accuracy: 0.2308 Source path =  /home/datasets/Project_data/val ; batch size = 10\n",
      "\n",
      "Epoch 00001: saving model to model_init_2022-08-2214_21_51.947313/model-00001-2.83211-0.23077-1.60487-0.25000.h5\n",
      "67/67 [==============================] - 929s 14s/step - loss: 2.8321 - categorical_accuracy: 0.2308 - val_loss: 1.6049 - val_categorical_accuracy: 0.2500 - lr: 0.0010\n",
      "Epoch 2/10\n",
      "67/67 [==============================] - ETA: 0s - loss: 2.6786 - categorical_accuracy: 0.2289\n",
      "Epoch 00002: saving model to model_init_2022-08-2214_21_51.947313/model-00002-2.67861-0.22886-1.61781-0.17000.h5\n",
      "67/67 [==============================] - 322s 5s/step - loss: 2.6786 - categorical_accuracy: 0.2289 - val_loss: 1.6178 - val_categorical_accuracy: 0.1700 - lr: 0.0010\n",
      "Epoch 3/10\n",
      "67/67 [==============================] - ETA: 0s - loss: 2.9434 - categorical_accuracy: 0.1542\n",
      "Epoch 00003: saving model to model_init_2022-08-2214_21_51.947313/model-00003-2.94339-0.15423-1.63213-0.20000.h5\n",
      "\n",
      "Epoch 00003: ReduceLROnPlateau reducing learning rate to 0.0005000000237487257.\n",
      "67/67 [==============================] - 323s 5s/step - loss: 2.9434 - categorical_accuracy: 0.1542 - val_loss: 1.6321 - val_categorical_accuracy: 0.2000 - lr: 0.0010\n",
      "Epoch 4/10\n",
      "67/67 [==============================] - ETA: 0s - loss: 2.8354 - categorical_accuracy: 0.2139\n",
      "Epoch 00004: saving model to model_init_2022-08-2214_21_51.947313/model-00004-2.83542-0.21393-1.67017-0.15000.h5\n",
      "67/67 [==============================] - 331s 5s/step - loss: 2.8354 - categorical_accuracy: 0.2139 - val_loss: 1.6702 - val_categorical_accuracy: 0.1500 - lr: 5.0000e-04\n",
      "Epoch 5/10\n",
      "67/67 [==============================] - ETA: 0s - loss: 2.9290 - categorical_accuracy: 0.2090\n",
      "Epoch 00005: saving model to model_init_2022-08-2214_21_51.947313/model-00005-2.92903-0.20896-1.61985-0.27000.h5\n",
      "\n",
      "Epoch 00005: ReduceLROnPlateau reducing learning rate to 0.0002500000118743628.\n",
      "67/67 [==============================] - 326s 5s/step - loss: 2.9290 - categorical_accuracy: 0.2090 - val_loss: 1.6198 - val_categorical_accuracy: 0.2700 - lr: 5.0000e-04\n",
      "Epoch 6/10\n",
      "67/67 [==============================] - ETA: 0s - loss: 2.6396 - categorical_accuracy: 0.2388\n",
      "Epoch 00006: saving model to model_init_2022-08-2214_21_51.947313/model-00006-2.63957-0.23881-1.66404-0.28000.h5\n",
      "67/67 [==============================] - 384s 6s/step - loss: 2.6396 - categorical_accuracy: 0.2388 - val_loss: 1.6640 - val_categorical_accuracy: 0.2800 - lr: 2.5000e-04\n",
      "Epoch 7/10\n",
      "67/67 [==============================] - ETA: 0s - loss: 2.6711 - categorical_accuracy: 0.2438\n",
      "Epoch 00007: saving model to model_init_2022-08-2214_21_51.947313/model-00007-2.67112-0.24378-1.62133-0.29000.h5\n",
      "\n",
      "Epoch 00007: ReduceLROnPlateau reducing learning rate to 0.0001250000059371814.\n",
      "67/67 [==============================] - 413s 6s/step - loss: 2.6711 - categorical_accuracy: 0.2438 - val_loss: 1.6213 - val_categorical_accuracy: 0.2900 - lr: 2.5000e-04\n",
      "Epoch 8/10\n",
      "67/67 [==============================] - ETA: 0s - loss: 2.6270 - categorical_accuracy: 0.2388\n",
      "Epoch 00008: saving model to model_init_2022-08-2214_21_51.947313/model-00008-2.62700-0.23881-1.71571-0.27000.h5\n",
      "67/67 [==============================] - 398s 6s/step - loss: 2.6270 - categorical_accuracy: 0.2388 - val_loss: 1.7157 - val_categorical_accuracy: 0.2700 - lr: 1.2500e-04\n",
      "Epoch 9/10\n",
      "67/67 [==============================] - ETA: 0s - loss: 2.6146 - categorical_accuracy: 0.2139\n",
      "Epoch 00009: saving model to model_init_2022-08-2214_21_51.947313/model-00009-2.61458-0.21393-1.66737-0.27000.h5\n",
      "\n",
      "Epoch 00009: ReduceLROnPlateau reducing learning rate to 6.25000029685907e-05.\n",
      "67/67 [==============================] - 408s 6s/step - loss: 2.6146 - categorical_accuracy: 0.2139 - val_loss: 1.6674 - val_categorical_accuracy: 0.2700 - lr: 1.2500e-04\n",
      "Epoch 10/10\n",
      "67/67 [==============================] - ETA: 0s - loss: 2.5117 - categorical_accuracy: 0.2338\n",
      "Epoch 00010: saving model to model_init_2022-08-2214_21_51.947313/model-00010-2.51170-0.23383-1.71786-0.24000.h5\n",
      "67/67 [==============================] - 403s 6s/step - loss: 2.5117 - categorical_accuracy: 0.2338 - val_loss: 1.7179 - val_categorical_accuracy: 0.2400 - lr: 6.2500e-05\n"
     ]
    },
    {
     "data": {
      "text/plain": [
       "<keras.callbacks.History at 0x7f438c53d310>"
      ]
     },
     "execution_count": 58,
     "metadata": {},
     "output_type": "execute_result"
    }
   ],
   "source": [
    "train_generator = generator_ex(train_path, train_doc, batch_size)\n",
    "val_generator = generator_ex(val_path, val_doc, batch_size)\n",
    "num_epochs = 10\n",
    "model_d.fit_generator(train_generator, steps_per_epoch=steps_per_epoch, epochs=num_epochs, verbose=1, \n",
    "                    callbacks=callbacks_list, validation_data=val_generator, \n",
    "                    validation_steps=validation_steps, class_weight=None, workers=1, initial_epoch=0)"
   ]
  },
  {
   "cell_type": "markdown",
   "metadata": {},
   "source": [
    "#### Model e"
   ]
  },
  {
   "cell_type": "code",
   "execution_count": 31,
   "metadata": {},
   "outputs": [],
   "source": [
    "x = 30 # number of frames\n",
    "y = 64 # image width\n",
    "z = 64 # image height \n",
    "\n",
    "classes = 5\n",
    "channel = 1"
   ]
  },
  {
   "cell_type": "code",
   "execution_count": 32,
   "metadata": {},
   "outputs": [
    {
     "name": "stdout",
     "output_type": "stream",
     "text": [
      "Model: \"sequential_5\"\n",
      "_________________________________________________________________\n",
      " Layer (type)                Output Shape              Param #   \n",
      "=================================================================\n",
      " conv3d_22 (Conv3D)          (None, 30, 64, 64, 32)    896       \n",
      "                                                                 \n",
      " activation_22 (Activation)  (None, 30, 64, 64, 32)    0         \n",
      "                                                                 \n",
      " conv3d_23 (Conv3D)          (None, 30, 64, 64, 32)    27680     \n",
      "                                                                 \n",
      " activation_23 (Activation)  (None, 30, 64, 64, 32)    0         \n",
      "                                                                 \n",
      " max_pooling3d_15 (MaxPoolin  (None, 10, 22, 22, 32)   0         \n",
      " g3D)                                                            \n",
      "                                                                 \n",
      " dropout_14 (Dropout)        (None, 10, 22, 22, 32)    0         \n",
      "                                                                 \n",
      " conv3d_24 (Conv3D)          (None, 10, 22, 22, 64)    55360     \n",
      "                                                                 \n",
      " activation_24 (Activation)  (None, 10, 22, 22, 64)    0         \n",
      "                                                                 \n",
      " conv3d_25 (Conv3D)          (None, 10, 22, 22, 64)    110656    \n",
      "                                                                 \n",
      " activation_25 (Activation)  (None, 10, 22, 22, 64)    0         \n",
      "                                                                 \n",
      " max_pooling3d_16 (MaxPoolin  (None, 4, 8, 8, 64)      0         \n",
      " g3D)                                                            \n",
      "                                                                 \n",
      " dropout_15 (Dropout)        (None, 4, 8, 8, 64)       0         \n",
      "                                                                 \n",
      " conv3d_26 (Conv3D)          (None, 4, 8, 8, 64)       110656    \n",
      "                                                                 \n",
      " activation_26 (Activation)  (None, 4, 8, 8, 64)       0         \n",
      "                                                                 \n",
      " conv3d_27 (Conv3D)          (None, 4, 8, 8, 64)       110656    \n",
      "                                                                 \n",
      " activation_27 (Activation)  (None, 4, 8, 8, 64)       0         \n",
      "                                                                 \n",
      " max_pooling3d_17 (MaxPoolin  (None, 2, 3, 3, 64)      0         \n",
      " g3D)                                                            \n",
      "                                                                 \n",
      " dropout_16 (Dropout)        (None, 2, 3, 3, 64)       0         \n",
      "                                                                 \n",
      " flatten_5 (Flatten)         (None, 1152)              0         \n",
      "                                                                 \n",
      " dense_12 (Dense)            (None, 512)               590336    \n",
      "                                                                 \n",
      " batch_normalization_9 (Batc  (None, 512)              2048      \n",
      " hNormalization)                                                 \n",
      "                                                                 \n",
      " dropout_17 (Dropout)        (None, 512)               0         \n",
      "                                                                 \n",
      " dense_13 (Dense)            (None, 5)                 2565      \n",
      "                                                                 \n",
      "=================================================================\n",
      "Total params: 1,010,853\n",
      "Trainable params: 1,009,829\n",
      "Non-trainable params: 1,024\n",
      "_________________________________________________________________\n"
     ]
    }
   ],
   "source": [
    "model_e = Sequential()\n",
    "model_e.add(Conv3D(32, kernel_size=(3, 3, 3), input_shape=(x,y,z,channel), padding=\"same\"))\n",
    "model_e.add(Activation('relu'))\n",
    "model_e.add(Conv3D(32, padding=\"same\", kernel_size=(3, 3, 3)))\n",
    "model_e.add(Activation('relu'))\n",
    "model_e.add(MaxPooling3D(pool_size=(3, 3, 3), padding=\"same\"))\n",
    "model_e.add(Dropout(0.25))\n",
    "\n",
    "model_e.add(Conv3D(64, padding=\"same\", kernel_size=(3, 3, 3)))\n",
    "model_e.add(Activation('relu'))\n",
    "model_e.add(Conv3D(64, padding=\"same\", kernel_size=(3, 3, 3)))\n",
    "model_e.add(Activation('relu'))\n",
    "model_e.add(MaxPooling3D(pool_size=(3, 3, 3), padding=\"same\"))\n",
    "model_e.add(Dropout(0.25))\n",
    "\n",
    "model_e.add(Conv3D(64, padding=\"same\", kernel_size=(3, 3, 3)))\n",
    "model_e.add(Activation('relu'))\n",
    "model_e.add(Conv3D(64, padding=\"same\", kernel_size=(3, 3, 3)))\n",
    "model_e.add(Activation('relu'))\n",
    "model_e.add(MaxPooling3D(pool_size=(3, 3, 3), padding=\"same\"))\n",
    "model_e.add(Dropout(0.25))\n",
    "\n",
    "model_e.add(Flatten())\n",
    "model_e.add(Dense(512, activation='relu'))\n",
    "model_e.add(BatchNormalization())\n",
    "model_e.add(Dropout(0.5))\n",
    "model_e.add(Dense(classes, activation='softmax'))\n",
    "model_e.compile(optimizer=tf.keras.optimizers.Adadelta(), loss='categorical_crossentropy', metrics=['categorical_accuracy'])\n",
    "model_e.summary()"
   ]
  },
  {
   "cell_type": "code",
   "execution_count": 61,
   "metadata": {},
   "outputs": [
    {
     "name": "stdout",
     "output_type": "stream",
     "text": [
      "Source path =  /home/datasets/Project_data/train ; batch size = 5\n"
     ]
    },
    {
     "name": "stderr",
     "output_type": "stream",
     "text": [
      "/tmp/ipykernel_450/1728685948.py:5: UserWarning: `Model.fit_generator` is deprecated and will be removed in a future version. Please use `Model.fit`, which supports generators.\n",
      "  model_e.fit_generator(train_generator, steps_per_epoch=steps_per_epoch, epochs=num_epochs, verbose=1,\n"
     ]
    },
    {
     "name": "stdout",
     "output_type": "stream",
     "text": [
      "Epoch 1/10\n",
      "67/67 [==============================] - ETA: 0s - loss: 2.1117 - categorical_accuracy: 0.1672Source path =  /home/datasets/Project_data/val ; batch size = 5\n",
      "\n",
      "Epoch 00001: saving model to model_init_2022-08-2214_21_51.947313/model-00001-2.11169-0.16716-1.61322-0.12000.h5\n",
      "67/67 [==============================] - 699s 10s/step - loss: 2.1117 - categorical_accuracy: 0.1672 - val_loss: 1.6132 - val_categorical_accuracy: 0.1200 - lr: 0.0010\n",
      "Epoch 2/10\n",
      "64/67 [===========================>..] - ETA: 30s - loss: 2.1482 - categorical_accuracy: 0.1406Batch:  133 Index: 5\n",
      "67/67 [==============================] - ETA: 0s - loss: 2.1338 - categorical_accuracy: 0.1420 \n",
      "Epoch 00002: saving model to model_init_2022-08-2214_21_51.947313/model-00002-2.13376-0.14199-1.61651-0.18000.h5\n",
      "67/67 [==============================] - 699s 10s/step - loss: 2.1338 - categorical_accuracy: 0.1420 - val_loss: 1.6165 - val_categorical_accuracy: 0.1800 - lr: 0.0010\n",
      "Epoch 3/10\n",
      "67/67 [==============================] - ETA: 0s - loss: 2.0149 - categorical_accuracy: 0.1692\n",
      "Epoch 00003: saving model to model_init_2022-08-2214_21_51.947313/model-00003-2.01491-0.16915-1.60717-0.28000.h5\n",
      "67/67 [==============================] - 453s 7s/step - loss: 2.0149 - categorical_accuracy: 0.1692 - val_loss: 1.6072 - val_categorical_accuracy: 0.2800 - lr: 0.0010\n",
      "Epoch 4/10\n",
      "67/67 [==============================] - ETA: 0s - loss: 2.1089 - categorical_accuracy: 0.1493\n",
      "Epoch 00004: saving model to model_init_2022-08-2214_21_51.947313/model-00004-2.10891-0.14925-1.64500-0.18000.h5\n",
      "67/67 [==============================] - 430s 6s/step - loss: 2.1089 - categorical_accuracy: 0.1493 - val_loss: 1.6450 - val_categorical_accuracy: 0.1800 - lr: 0.0010\n",
      "Epoch 5/10\n",
      "67/67 [==============================] - ETA: 0s - loss: 1.9682 - categorical_accuracy: 0.2139\n",
      "Epoch 00005: saving model to model_init_2022-08-2214_21_51.947313/model-00005-1.96822-0.21393-1.58818-0.30000.h5\n",
      "67/67 [==============================] - 429s 6s/step - loss: 1.9682 - categorical_accuracy: 0.2139 - val_loss: 1.5882 - val_categorical_accuracy: 0.3000 - lr: 0.0010\n",
      "Epoch 6/10\n",
      "67/67 [==============================] - ETA: 0s - loss: 1.8965 - categorical_accuracy: 0.1791\n",
      "Epoch 00006: saving model to model_init_2022-08-2214_21_51.947313/model-00006-1.89651-0.17910-1.63048-0.18000.h5\n",
      "67/67 [==============================] - 428s 6s/step - loss: 1.8965 - categorical_accuracy: 0.1791 - val_loss: 1.6305 - val_categorical_accuracy: 0.1800 - lr: 0.0010\n",
      "Epoch 7/10\n",
      "67/67 [==============================] - ETA: 0s - loss: 1.9637 - categorical_accuracy: 0.1692\n",
      "Epoch 00007: saving model to model_init_2022-08-2214_21_51.947313/model-00007-1.96371-0.16915-1.71427-0.18000.h5\n",
      "\n",
      "Epoch 00007: ReduceLROnPlateau reducing learning rate to 0.0005000000237487257.\n",
      "67/67 [==============================] - 427s 6s/step - loss: 1.9637 - categorical_accuracy: 0.1692 - val_loss: 1.7143 - val_categorical_accuracy: 0.1800 - lr: 0.0010\n",
      "Epoch 8/10\n",
      "67/67 [==============================] - ETA: 0s - loss: 1.9242 - categorical_accuracy: 0.1791\n",
      "Epoch 00008: saving model to model_init_2022-08-2214_21_51.947313/model-00008-1.92419-0.17910-1.65002-0.26000.h5\n",
      "67/67 [==============================] - 430s 6s/step - loss: 1.9242 - categorical_accuracy: 0.1791 - val_loss: 1.6500 - val_categorical_accuracy: 0.2600 - lr: 5.0000e-04\n",
      "Epoch 9/10\n",
      "67/67 [==============================] - ETA: 0s - loss: 1.8857 - categorical_accuracy: 0.1841\n",
      "Epoch 00009: saving model to model_init_2022-08-2214_21_51.947313/model-00009-1.88565-0.18408-1.74701-0.28000.h5\n",
      "\n",
      "Epoch 00009: ReduceLROnPlateau reducing learning rate to 0.0002500000118743628.\n",
      "67/67 [==============================] - 431s 6s/step - loss: 1.8857 - categorical_accuracy: 0.1841 - val_loss: 1.7470 - val_categorical_accuracy: 0.2800 - lr: 5.0000e-04\n",
      "Epoch 10/10\n",
      "67/67 [==============================] - ETA: 0s - loss: 1.9161 - categorical_accuracy: 0.1692\n",
      "Epoch 00010: saving model to model_init_2022-08-2214_21_51.947313/model-00010-1.91608-0.16915-1.86369-0.20000.h5\n",
      "67/67 [==============================] - 432s 6s/step - loss: 1.9161 - categorical_accuracy: 0.1692 - val_loss: 1.8637 - val_categorical_accuracy: 0.2000 - lr: 2.5000e-04\n"
     ]
    },
    {
     "data": {
      "text/plain": [
       "<keras.callbacks.History at 0x7f43b546ed30>"
      ]
     },
     "execution_count": 61,
     "metadata": {},
     "output_type": "execute_result"
    }
   ],
   "source": [
    "batch_size = 5\n",
    "train_generator = generator_ex(train_path, train_doc, batch_size)\n",
    "val_generator = generator_ex(val_path, val_doc, batch_size)\n",
    "num_epochs = 10\n",
    "model_e.fit_generator(train_generator, steps_per_epoch=steps_per_epoch, epochs=num_epochs, verbose=1, \n",
    "                    callbacks=callbacks_list, validation_data=val_generator, \n",
    "                    validation_steps=validation_steps, class_weight=None, workers=1, initial_epoch=0)"
   ]
  },
  {
   "cell_type": "markdown",
   "metadata": {},
   "source": [
    "#### Model f"
   ]
  },
  {
   "cell_type": "code",
   "execution_count": 33,
   "metadata": {},
   "outputs": [
    {
     "name": "stdout",
     "output_type": "stream",
     "text": [
      "Model: \"sequential_6\"\n",
      "_________________________________________________________________\n",
      " Layer (type)                Output Shape              Param #   \n",
      "=================================================================\n",
      " conv3d_28 (Conv3D)          (None, 30, 120, 120, 8)   224       \n",
      "                                                                 \n",
      " batch_normalization_10 (Bat  (None, 30, 120, 120, 8)  32        \n",
      " chNormalization)                                                \n",
      "                                                                 \n",
      " activation_28 (Activation)  (None, 30, 120, 120, 8)   0         \n",
      "                                                                 \n",
      " max_pooling3d_18 (MaxPoolin  (None, 15, 60, 60, 8)    0         \n",
      " g3D)                                                            \n",
      "                                                                 \n",
      " conv3d_29 (Conv3D)          (None, 15, 60, 60, 16)    3472      \n",
      "                                                                 \n",
      " batch_normalization_11 (Bat  (None, 15, 60, 60, 16)   64        \n",
      " chNormalization)                                                \n",
      "                                                                 \n",
      " activation_29 (Activation)  (None, 15, 60, 60, 16)    0         \n",
      "                                                                 \n",
      " max_pooling3d_19 (MaxPoolin  (None, 7, 30, 30, 16)    0         \n",
      " g3D)                                                            \n",
      "                                                                 \n",
      " conv3d_30 (Conv3D)          (None, 7, 30, 30, 32)     4640      \n",
      "                                                                 \n",
      " batch_normalization_12 (Bat  (None, 7, 30, 30, 32)    128       \n",
      " chNormalization)                                                \n",
      "                                                                 \n",
      " activation_30 (Activation)  (None, 7, 30, 30, 32)     0         \n",
      "                                                                 \n",
      " max_pooling3d_20 (MaxPoolin  (None, 3, 15, 15, 32)    0         \n",
      " g3D)                                                            \n",
      "                                                                 \n",
      " conv3d_31 (Conv3D)          (None, 3, 15, 15, 64)     18496     \n",
      "                                                                 \n",
      " batch_normalization_13 (Bat  (None, 3, 15, 15, 64)    256       \n",
      " chNormalization)                                                \n",
      "                                                                 \n",
      " activation_31 (Activation)  (None, 3, 15, 15, 64)     0         \n",
      "                                                                 \n",
      " max_pooling3d_21 (MaxPoolin  (None, 1, 7, 7, 64)      0         \n",
      " g3D)                                                            \n",
      "                                                                 \n",
      " flatten_6 (Flatten)         (None, 3136)              0         \n",
      "                                                                 \n",
      " dense_14 (Dense)            (None, 1000)              3137000   \n",
      "                                                                 \n",
      " dropout_18 (Dropout)        (None, 1000)              0         \n",
      "                                                                 \n",
      " dense_15 (Dense)            (None, 500)               500500    \n",
      "                                                                 \n",
      " dropout_19 (Dropout)        (None, 500)               0         \n",
      "                                                                 \n",
      " dense_16 (Dense)            (None, 5)                 2505      \n",
      "                                                                 \n",
      "=================================================================\n",
      "Total params: 3,667,317\n",
      "Trainable params: 3,667,077\n",
      "Non-trainable params: 240\n",
      "_________________________________________________________________\n"
     ]
    }
   ],
   "source": [
    "x = 30 # number of frames\n",
    "y = 120 # image width\n",
    "z = 120 # image height \n",
    "\n",
    "classes = 5\n",
    "channel = 1\n",
    "nb_dense = [1000, 500, 5]\n",
    "\n",
    "input_shape=(x,y,z,channel)\n",
    "\n",
    "# Define model\n",
    "model_f = Sequential()\n",
    "\n",
    "model_f.add(Conv3D(nb_filters[0], \n",
    "                 kernel_size=(3,3,3), \n",
    "                 input_shape=input_shape,\n",
    "                 padding='same'))\n",
    "model_f.add(BatchNormalization())\n",
    "model_f.add(Activation('relu'))\n",
    "\n",
    "model_f.add(MaxPooling3D(pool_size=(2,2,2)))\n",
    "\n",
    "model_f.add(Conv3D(nb_filters[1], \n",
    "                 kernel_size=(3,3,3), \n",
    "                 padding='same'))\n",
    "model_f.add(BatchNormalization())\n",
    "model_f.add(Activation('relu'))\n",
    "\n",
    "model_f.add(MaxPooling3D(pool_size=(2,2,2)))\n",
    "\n",
    "model_f.add(Conv3D(nb_filters[2], \n",
    "                 kernel_size=(1,3,3), \n",
    "                 padding='same'))\n",
    "model_f.add(BatchNormalization())\n",
    "model_f.add(Activation('relu'))\n",
    "\n",
    "model_f.add(MaxPooling3D(pool_size=(2,2,2)))\n",
    "\n",
    "model_f.add(Conv3D(nb_filters[3], \n",
    "                 kernel_size=(1,3,3), \n",
    "                 padding='same'))\n",
    "model_f.add(BatchNormalization())\n",
    "model_f.add(Activation('relu'))\n",
    "\n",
    "model_f.add(MaxPooling3D(pool_size=(2,2,2)))\n",
    "\n",
    "#Flatten Layers\n",
    "model_f.add(Flatten())\n",
    "\n",
    "model_f.add(Dense(nb_dense[0], activation='relu'))\n",
    "model_f.add(Dropout(0.5))\n",
    "\n",
    "model_f.add(Dense(nb_dense[1], activation='relu'))\n",
    "model_f.add(Dropout(0.5))\n",
    "\n",
    "#softmax layer\n",
    "model_f.add(Dense(nb_dense[2], activation='softmax'))\n",
    "model_f.compile(optimizer=tf.keras.optimizers.Adadelta(), loss='categorical_crossentropy', metrics=['categorical_accuracy'])\n",
    "model_f.summary()"
   ]
  },
  {
   "cell_type": "code",
   "execution_count": 63,
   "metadata": {},
   "outputs": [
    {
     "name": "stdout",
     "output_type": "stream",
     "text": [
      "Source path =  /home/datasets/Project_data/train ; batch size = 10\n"
     ]
    },
    {
     "name": "stderr",
     "output_type": "stream",
     "text": [
      "/tmp/ipykernel_450/3462510936.py:5: UserWarning: `Model.fit_generator` is deprecated and will be removed in a future version. Please use `Model.fit`, which supports generators.\n",
      "  model_f.fit_generator(train_generator, steps_per_epoch=steps_per_epoch, epochs=num_epochs, verbose=1,\n"
     ]
    },
    {
     "name": "stdout",
     "output_type": "stream",
     "text": [
      "Epoch 1/10\n",
      "65/67 [============================>.] - ETA: 23s - loss: 2.9585 - categorical_accuracy: 0.2231Batch:  67 Index: 10\n",
      "67/67 [==============================] - ETA: 0s - loss: 2.9674 - categorical_accuracy: 0.2232 Source path =  /home/datasets/Project_data/val ; batch size = 10\n",
      "\n",
      "Epoch 00001: saving model to model_init_2022-08-2214_21_51.947313/model-00001-2.96743-0.22323-1.62591-0.17000.h5\n",
      "67/67 [==============================] - 827s 12s/step - loss: 2.9674 - categorical_accuracy: 0.2232 - val_loss: 1.6259 - val_categorical_accuracy: 0.1700 - lr: 0.0010\n",
      "Epoch 2/10\n",
      "67/67 [==============================] - ETA: 0s - loss: 2.8714 - categorical_accuracy: 0.2438\n",
      "Epoch 00002: saving model to model_init_2022-08-2214_21_51.947313/model-00002-2.87136-0.24378-1.62605-0.23000.h5\n",
      "67/67 [==============================] - 292s 4s/step - loss: 2.8714 - categorical_accuracy: 0.2438 - val_loss: 1.6261 - val_categorical_accuracy: 0.2300 - lr: 0.0010\n",
      "Epoch 3/10\n",
      "67/67 [==============================] - ETA: 0s - loss: 2.9492 - categorical_accuracy: 0.1940\n",
      "Epoch 00003: saving model to model_init_2022-08-2214_21_51.947313/model-00003-2.94924-0.19403-1.64942-0.18000.h5\n",
      "\n",
      "Epoch 00003: ReduceLROnPlateau reducing learning rate to 0.0005000000237487257.\n",
      "67/67 [==============================] - 292s 4s/step - loss: 2.9492 - categorical_accuracy: 0.1940 - val_loss: 1.6494 - val_categorical_accuracy: 0.1800 - lr: 0.0010\n",
      "Epoch 4/10\n",
      "67/67 [==============================] - ETA: 0s - loss: 3.0406 - categorical_accuracy: 0.1692\n",
      "Epoch 00004: saving model to model_init_2022-08-2214_21_51.947313/model-00004-3.04058-0.16915-1.64118-0.19000.h5\n",
      "67/67 [==============================] - 289s 4s/step - loss: 3.0406 - categorical_accuracy: 0.1692 - val_loss: 1.6412 - val_categorical_accuracy: 0.1900 - lr: 5.0000e-04\n",
      "Epoch 5/10\n",
      "67/67 [==============================] - ETA: 0s - loss: 2.7524 - categorical_accuracy: 0.1841\n",
      "Epoch 00005: saving model to model_init_2022-08-2214_21_51.947313/model-00005-2.75242-0.18408-1.54848-0.20000.h5\n",
      "67/67 [==============================] - 289s 4s/step - loss: 2.7524 - categorical_accuracy: 0.1841 - val_loss: 1.5485 - val_categorical_accuracy: 0.2000 - lr: 5.0000e-04\n",
      "Epoch 6/10\n",
      "67/67 [==============================] - ETA: 0s - loss: 2.5959 - categorical_accuracy: 0.2040\n",
      "Epoch 00006: saving model to model_init_2022-08-2214_21_51.947313/model-00006-2.59587-0.20398-1.56710-0.23000.h5\n",
      "67/67 [==============================] - 295s 4s/step - loss: 2.5959 - categorical_accuracy: 0.2040 - val_loss: 1.5671 - val_categorical_accuracy: 0.2300 - lr: 5.0000e-04\n",
      "Epoch 7/10\n",
      "67/67 [==============================] - ETA: 0s - loss: 3.0423 - categorical_accuracy: 0.2040\n",
      "Epoch 00007: saving model to model_init_2022-08-2214_21_51.947313/model-00007-3.04228-0.20398-1.61611-0.18000.h5\n",
      "\n",
      "Epoch 00007: ReduceLROnPlateau reducing learning rate to 0.0002500000118743628.\n",
      "67/67 [==============================] - 290s 4s/step - loss: 3.0423 - categorical_accuracy: 0.2040 - val_loss: 1.6161 - val_categorical_accuracy: 0.1800 - lr: 5.0000e-04\n",
      "Epoch 8/10\n",
      "67/67 [==============================] - ETA: 0s - loss: 2.7417 - categorical_accuracy: 0.1642\n",
      "Epoch 00008: saving model to model_init_2022-08-2214_21_51.947313/model-00008-2.74169-0.16418-1.57721-0.23000.h5\n",
      "67/67 [==============================] - 290s 4s/step - loss: 2.7417 - categorical_accuracy: 0.1642 - val_loss: 1.5772 - val_categorical_accuracy: 0.2300 - lr: 2.5000e-04\n",
      "Epoch 9/10\n",
      "67/67 [==============================] - ETA: 0s - loss: 3.0377 - categorical_accuracy: 0.1940\n",
      "Epoch 00009: saving model to model_init_2022-08-2214_21_51.947313/model-00009-3.03768-0.19403-1.57110-0.29000.h5\n",
      "\n",
      "Epoch 00009: ReduceLROnPlateau reducing learning rate to 0.0001250000059371814.\n",
      "67/67 [==============================] - 290s 4s/step - loss: 3.0377 - categorical_accuracy: 0.1940 - val_loss: 1.5711 - val_categorical_accuracy: 0.2900 - lr: 2.5000e-04\n",
      "Epoch 10/10\n",
      "67/67 [==============================] - ETA: 0s - loss: 2.7755 - categorical_accuracy: 0.2189\n",
      "Epoch 00010: saving model to model_init_2022-08-2214_21_51.947313/model-00010-2.77551-0.21891-1.55114-0.30000.h5\n",
      "67/67 [==============================] - 293s 4s/step - loss: 2.7755 - categorical_accuracy: 0.2189 - val_loss: 1.5511 - val_categorical_accuracy: 0.3000 - lr: 1.2500e-04\n"
     ]
    },
    {
     "data": {
      "text/plain": [
       "<keras.callbacks.History at 0x7f43b546e940>"
      ]
     },
     "execution_count": 63,
     "metadata": {},
     "output_type": "execute_result"
    }
   ],
   "source": [
    "batch_size = 10\n",
    "train_generator = generator_ex(train_path, train_doc, batch_size)\n",
    "val_generator = generator_ex(val_path, val_doc, batch_size)\n",
    "num_epochs = 10\n",
    "model_f.fit_generator(train_generator, steps_per_epoch=steps_per_epoch, epochs=num_epochs, verbose=1, \n",
    "                    callbacks=callbacks_list, validation_data=val_generator, \n",
    "                    validation_steps=validation_steps, class_weight=None, workers=1, initial_epoch=0)"
   ]
  },
  {
   "cell_type": "markdown",
   "metadata": {},
   "source": [
    "#### Model g"
   ]
  },
  {
   "cell_type": "code",
   "execution_count": 34,
   "metadata": {},
   "outputs": [
    {
     "name": "stdout",
     "output_type": "stream",
     "text": [
      "Model: \"sequential_7\"\n",
      "_________________________________________________________________\n",
      " Layer (type)                Output Shape              Param #   \n",
      "=================================================================\n",
      " conv3d_32 (Conv3D)          (None, 30, 120, 120, 8)   656       \n",
      "                                                                 \n",
      " batch_normalization_14 (Bat  (None, 30, 120, 120, 8)  32        \n",
      " chNormalization)                                                \n",
      "                                                                 \n",
      " activation_32 (Activation)  (None, 30, 120, 120, 8)   0         \n",
      "                                                                 \n",
      " max_pooling3d_22 (MaxPoolin  (None, 15, 60, 60, 8)    0         \n",
      " g3D)                                                            \n",
      "                                                                 \n",
      " conv3d_33 (Conv3D)          (None, 15, 60, 60, 16)    3472      \n",
      "                                                                 \n",
      " batch_normalization_15 (Bat  (None, 15, 60, 60, 16)   64        \n",
      " chNormalization)                                                \n",
      "                                                                 \n",
      " activation_33 (Activation)  (None, 15, 60, 60, 16)    0         \n",
      "                                                                 \n",
      " max_pooling3d_23 (MaxPoolin  (None, 7, 30, 30, 16)    0         \n",
      " g3D)                                                            \n",
      "                                                                 \n",
      " conv3d_34 (Conv3D)          (None, 7, 30, 30, 32)     4640      \n",
      "                                                                 \n",
      " batch_normalization_16 (Bat  (None, 7, 30, 30, 32)    128       \n",
      " chNormalization)                                                \n",
      "                                                                 \n",
      " activation_34 (Activation)  (None, 7, 30, 30, 32)     0         \n",
      "                                                                 \n",
      " max_pooling3d_24 (MaxPoolin  (None, 3, 15, 15, 32)    0         \n",
      " g3D)                                                            \n",
      "                                                                 \n",
      " conv3d_35 (Conv3D)          (None, 3, 15, 15, 64)     18496     \n",
      "                                                                 \n",
      " batch_normalization_17 (Bat  (None, 3, 15, 15, 64)    256       \n",
      " chNormalization)                                                \n",
      "                                                                 \n",
      " activation_35 (Activation)  (None, 3, 15, 15, 64)     0         \n",
      "                                                                 \n",
      " max_pooling3d_25 (MaxPoolin  (None, 1, 7, 7, 64)      0         \n",
      " g3D)                                                            \n",
      "                                                                 \n",
      " flatten_7 (Flatten)         (None, 3136)              0         \n",
      "                                                                 \n",
      " dense_17 (Dense)            (None, 1000)              3137000   \n",
      "                                                                 \n",
      " dropout_20 (Dropout)        (None, 1000)              0         \n",
      "                                                                 \n",
      " dense_18 (Dense)            (None, 500)               500500    \n",
      "                                                                 \n",
      " dropout_21 (Dropout)        (None, 500)               0         \n",
      "                                                                 \n",
      " dense_19 (Dense)            (None, 5)                 2505      \n",
      "                                                                 \n",
      "=================================================================\n",
      "Total params: 3,667,749\n",
      "Trainable params: 3,667,509\n",
      "Non-trainable params: 240\n",
      "_________________________________________________________________\n"
     ]
    }
   ],
   "source": [
    "x = 30 # number of frames\n",
    "y = 120 # image width\n",
    "z = 120 # image height \n",
    "\n",
    "classes = 5\n",
    "channel = 3\n",
    "nb_dense = [1000, 500, 5]\n",
    "\n",
    "input_shape=(x,y,z,channel)\n",
    "\n",
    "# Define model\n",
    "model_g = Sequential()\n",
    "\n",
    "model_g.add(Conv3D(nb_filters[0], \n",
    "                 kernel_size=(3,3,3), \n",
    "                 input_shape=input_shape,\n",
    "                 padding='same'))\n",
    "model_g.add(BatchNormalization())\n",
    "model_g.add(Activation('relu'))\n",
    "\n",
    "model_g.add(MaxPooling3D(pool_size=(2,2,2)))\n",
    "\n",
    "model_g.add(Conv3D(nb_filters[1], \n",
    "                 kernel_size=(3,3,3), \n",
    "                 padding='same'))\n",
    "model_g.add(BatchNormalization())\n",
    "model_g.add(Activation('relu'))\n",
    "\n",
    "model_g.add(MaxPooling3D(pool_size=(2,2,2)))\n",
    "\n",
    "model_g.add(Conv3D(nb_filters[2], \n",
    "                 kernel_size=(1,3,3), \n",
    "                 padding='same'))\n",
    "model_g.add(BatchNormalization())\n",
    "model_g.add(Activation('relu'))\n",
    "\n",
    "model_g.add(MaxPooling3D(pool_size=(2,2,2)))\n",
    "\n",
    "model_g.add(Conv3D(nb_filters[3], \n",
    "                 kernel_size=(1,3,3), \n",
    "                 padding='same'))\n",
    "model_g.add(BatchNormalization())\n",
    "model_g.add(Activation('relu'))\n",
    "\n",
    "model_g.add(MaxPooling3D(pool_size=(2,2,2)))\n",
    "\n",
    "#Flatten Layers\n",
    "model_g.add(Flatten())\n",
    "\n",
    "model_g.add(Dense(nb_dense[0], activation='relu'))\n",
    "model_g.add(Dropout(0.5))\n",
    "\n",
    "model_g.add(Dense(nb_dense[1], activation='relu'))\n",
    "model_g.add(Dropout(0.5))\n",
    "\n",
    "#softmax layer\n",
    "model_g.add(Dense(nb_dense[2], activation='softmax'))\n",
    "model_g.compile(optimizer=tf.keras.optimizers.Adadelta(), loss='categorical_crossentropy', metrics=['categorical_accuracy'])\n",
    "model_g.summary()"
   ]
  },
  {
   "cell_type": "code",
   "execution_count": 35,
   "metadata": {},
   "outputs": [
    {
     "name": "stderr",
     "output_type": "stream",
     "text": [
      "/tmp/ipykernel_429/2187855109.py:5: UserWarning: `Model.fit_generator` is deprecated and will be removed in a future version. Please use `Model.fit`, which supports generators.\n",
      "  model_g.fit_generator(train_generator, steps_per_epoch=steps_per_epoch, epochs=num_epochs, verbose=1,\n"
     ]
    },
    {
     "name": "stdout",
     "output_type": "stream",
     "text": [
      "Source path =  /home/datasets/Project_data/train ; batch size = 10\n",
      "Epoch 1/10\n",
      "65/67 [============================>.] - ETA: 25s - loss: 3.2171 - categorical_accuracy: 0.1985Batch:  67 Index: 10\n",
      "67/67 [==============================] - ETA: 0s - loss: 3.2120 - categorical_accuracy: 0.1991 Source path =  /home/datasets/Project_data/val ; batch size = 10\n",
      "\n",
      "Epoch 00001: saving model to model_init_2022-08-2301_09_04.588158/model-00001-3.21198-0.19910-1.65661-0.24000.h5\n",
      "67/67 [==============================] - 893s 13s/step - loss: 3.2120 - categorical_accuracy: 0.1991 - val_loss: 1.6566 - val_categorical_accuracy: 0.2400 - lr: 0.0010\n",
      "Epoch 2/10\n",
      "67/67 [==============================] - ETA: 0s - loss: 3.2570 - categorical_accuracy: 0.2090\n",
      "Epoch 00002: saving model to model_init_2022-08-2301_09_04.588158/model-00002-3.25699-0.20896-1.70172-0.21000.h5\n",
      "67/67 [==============================] - 316s 5s/step - loss: 3.2570 - categorical_accuracy: 0.2090 - val_loss: 1.7017 - val_categorical_accuracy: 0.2100 - lr: 0.0010\n",
      "Epoch 3/10\n",
      "67/67 [==============================] - ETA: 0s - loss: 3.1276 - categorical_accuracy: 0.1841\n",
      "Epoch 00003: saving model to model_init_2022-08-2301_09_04.588158/model-00003-3.12758-0.18408-1.69870-0.24000.h5\n",
      "\n",
      "Epoch 00003: ReduceLROnPlateau reducing learning rate to 0.0005000000237487257.\n",
      "67/67 [==============================] - 318s 5s/step - loss: 3.1276 - categorical_accuracy: 0.1841 - val_loss: 1.6987 - val_categorical_accuracy: 0.2400 - lr: 0.0010\n",
      "Epoch 4/10\n",
      "67/67 [==============================] - ETA: 0s - loss: 3.2141 - categorical_accuracy: 0.1791\n",
      "Epoch 00004: saving model to model_init_2022-08-2301_09_04.588158/model-00004-3.21415-0.17910-1.76851-0.22000.h5\n",
      "67/67 [==============================] - 315s 5s/step - loss: 3.2141 - categorical_accuracy: 0.1791 - val_loss: 1.7685 - val_categorical_accuracy: 0.2200 - lr: 5.0000e-04\n",
      "Epoch 5/10\n",
      "67/67 [==============================] - ETA: 0s - loss: 2.9974 - categorical_accuracy: 0.1791\n",
      "Epoch 00005: saving model to model_init_2022-08-2301_09_04.588158/model-00005-2.99738-0.17910-1.76204-0.27000.h5\n",
      "\n",
      "Epoch 00005: ReduceLROnPlateau reducing learning rate to 0.0002500000118743628.\n",
      "67/67 [==============================] - 317s 5s/step - loss: 2.9974 - categorical_accuracy: 0.1791 - val_loss: 1.7620 - val_categorical_accuracy: 0.2700 - lr: 5.0000e-04\n",
      "Epoch 6/10\n",
      "67/67 [==============================] - ETA: 0s - loss: 2.8282 - categorical_accuracy: 0.2040\n",
      "Epoch 00006: saving model to model_init_2022-08-2301_09_04.588158/model-00006-2.82818-0.20398-1.71891-0.27000.h5\n",
      "67/67 [==============================] - 319s 5s/step - loss: 2.8282 - categorical_accuracy: 0.2040 - val_loss: 1.7189 - val_categorical_accuracy: 0.2700 - lr: 2.5000e-04\n",
      "Epoch 7/10\n",
      "67/67 [==============================] - ETA: 0s - loss: 3.1705 - categorical_accuracy: 0.2040\n",
      "Epoch 00007: saving model to model_init_2022-08-2301_09_04.588158/model-00007-3.17052-0.20398-1.72279-0.32000.h5\n",
      "\n",
      "Epoch 00007: ReduceLROnPlateau reducing learning rate to 0.0001250000059371814.\n",
      "67/67 [==============================] - 315s 5s/step - loss: 3.1705 - categorical_accuracy: 0.2040 - val_loss: 1.7228 - val_categorical_accuracy: 0.3200 - lr: 2.5000e-04\n",
      "Epoch 8/10\n",
      "67/67 [==============================] - ETA: 0s - loss: 2.7599 - categorical_accuracy: 0.2139\n",
      "Epoch 00008: saving model to model_init_2022-08-2301_09_04.588158/model-00008-2.75991-0.21393-1.82792-0.18000.h5\n",
      "67/67 [==============================] - 316s 5s/step - loss: 2.7599 - categorical_accuracy: 0.2139 - val_loss: 1.8279 - val_categorical_accuracy: 0.1800 - lr: 1.2500e-04\n",
      "Epoch 9/10\n",
      "67/67 [==============================] - ETA: 0s - loss: 3.2607 - categorical_accuracy: 0.1642\n",
      "Epoch 00009: saving model to model_init_2022-08-2301_09_04.588158/model-00009-3.26067-0.16418-1.71136-0.26000.h5\n",
      "\n",
      "Epoch 00009: ReduceLROnPlateau reducing learning rate to 6.25000029685907e-05.\n",
      "67/67 [==============================] - 319s 5s/step - loss: 3.2607 - categorical_accuracy: 0.1642 - val_loss: 1.7114 - val_categorical_accuracy: 0.2600 - lr: 1.2500e-04\n",
      "Epoch 10/10\n",
      "67/67 [==============================] - ETA: 0s - loss: 3.3359 - categorical_accuracy: 0.1393\n",
      "Epoch 00010: saving model to model_init_2022-08-2301_09_04.588158/model-00010-3.33590-0.13930-1.79209-0.26000.h5\n",
      "67/67 [==============================] - 316s 5s/step - loss: 3.3359 - categorical_accuracy: 0.1393 - val_loss: 1.7921 - val_categorical_accuracy: 0.2600 - lr: 6.2500e-05\n"
     ]
    },
    {
     "data": {
      "text/plain": [
       "<keras.callbacks.History at 0x7f4ba6a02910>"
      ]
     },
     "execution_count": 35,
     "metadata": {},
     "output_type": "execute_result"
    }
   ],
   "source": [
    "batch_size = 10\n",
    "train_generator = generator_ex(train_path, train_doc, batch_size)\n",
    "val_generator = generator_ex(val_path, val_doc, batch_size)\n",
    "num_epochs = 10\n",
    "model_g.fit_generator(train_generator, steps_per_epoch=steps_per_epoch, epochs=num_epochs, verbose=1, \n",
    "                    callbacks=callbacks_list, validation_data=val_generator, \n",
    "                    validation_steps=validation_steps, class_weight=None, workers=1, initial_epoch=0)"
   ]
  },
  {
   "cell_type": "markdown",
   "metadata": {},
   "source": [
    "#### Model h"
   ]
  },
  {
   "cell_type": "code",
   "execution_count": 36,
   "metadata": {},
   "outputs": [
    {
     "name": "stdout",
     "output_type": "stream",
     "text": [
      "Model: \"sequential_8\"\n",
      "_________________________________________________________________\n",
      " Layer (type)                Output Shape              Param #   \n",
      "=================================================================\n",
      " conv3d_36 (Conv3D)          (None, 30, 120, 120, 8)   656       \n",
      "                                                                 \n",
      " batch_normalization_18 (Bat  (None, 30, 120, 120, 8)  32        \n",
      " chNormalization)                                                \n",
      "                                                                 \n",
      " activation_36 (Activation)  (None, 30, 120, 120, 8)   0         \n",
      "                                                                 \n",
      " max_pooling3d_26 (MaxPoolin  (None, 15, 60, 60, 8)    0         \n",
      " g3D)                                                            \n",
      "                                                                 \n",
      " conv3d_37 (Conv3D)          (None, 15, 60, 60, 16)    3472      \n",
      "                                                                 \n",
      " batch_normalization_19 (Bat  (None, 15, 60, 60, 16)   64        \n",
      " chNormalization)                                                \n",
      "                                                                 \n",
      " activation_37 (Activation)  (None, 15, 60, 60, 16)    0         \n",
      "                                                                 \n",
      " max_pooling3d_27 (MaxPoolin  (None, 7, 30, 30, 16)    0         \n",
      " g3D)                                                            \n",
      "                                                                 \n",
      " conv3d_38 (Conv3D)          (None, 7, 30, 30, 32)     4640      \n",
      "                                                                 \n",
      " batch_normalization_20 (Bat  (None, 7, 30, 30, 32)    128       \n",
      " chNormalization)                                                \n",
      "                                                                 \n",
      " activation_38 (Activation)  (None, 7, 30, 30, 32)     0         \n",
      "                                                                 \n",
      " max_pooling3d_28 (MaxPoolin  (None, 3, 15, 15, 32)    0         \n",
      " g3D)                                                            \n",
      "                                                                 \n",
      " conv3d_39 (Conv3D)          (None, 3, 15, 15, 64)     18496     \n",
      "                                                                 \n",
      " batch_normalization_21 (Bat  (None, 3, 15, 15, 64)    256       \n",
      " chNormalization)                                                \n",
      "                                                                 \n",
      " activation_39 (Activation)  (None, 3, 15, 15, 64)     0         \n",
      "                                                                 \n",
      " max_pooling3d_29 (MaxPoolin  (None, 1, 7, 7, 64)      0         \n",
      " g3D)                                                            \n",
      "                                                                 \n",
      " flatten_8 (Flatten)         (None, 3136)              0         \n",
      "                                                                 \n",
      " dense_20 (Dense)            (None, 1000)              3137000   \n",
      "                                                                 \n",
      " dropout_22 (Dropout)        (None, 1000)              0         \n",
      "                                                                 \n",
      " dense_21 (Dense)            (None, 500)               500500    \n",
      "                                                                 \n",
      " dropout_23 (Dropout)        (None, 500)               0         \n",
      "                                                                 \n",
      " dense_22 (Dense)            (None, 5)                 2505      \n",
      "                                                                 \n",
      "=================================================================\n",
      "Total params: 3,667,749\n",
      "Trainable params: 3,667,509\n",
      "Non-trainable params: 240\n",
      "_________________________________________________________________\n"
     ]
    }
   ],
   "source": [
    "x = 30 # number of frames\n",
    "y = 120 # image width\n",
    "z = 120 # image height \n",
    "\n",
    "classes = 5\n",
    "channel = 3\n",
    "\n",
    "input_shape=(x,y,z,channel)\n",
    "\n",
    "# Define model\n",
    "model_h = Sequential()\n",
    "\n",
    "model_h.add(Conv3D(nb_filters[0], \n",
    "                 kernel_size=(3,3,3), \n",
    "                 input_shape=input_shape,\n",
    "                 padding='same'))\n",
    "model_h.add(BatchNormalization())\n",
    "model_h.add(Activation('relu'))\n",
    "\n",
    "model_h.add(MaxPooling3D(pool_size=(2,2,2)))\n",
    "\n",
    "model_h.add(Conv3D(nb_filters[1], \n",
    "                 kernel_size=(3,3,3), \n",
    "                 padding='same'))\n",
    "model_h.add(BatchNormalization())\n",
    "model_h.add(Activation('relu'))\n",
    "\n",
    "model_h.add(MaxPooling3D(pool_size=(2,2,2)))\n",
    "\n",
    "model_h.add(Conv3D(nb_filters[2], \n",
    "                 kernel_size=(1,3,3), \n",
    "                 padding='same'))\n",
    "model_h.add(BatchNormalization())\n",
    "model_h.add(Activation('relu'))\n",
    "\n",
    "model_h.add(MaxPooling3D(pool_size=(2,2,2)))\n",
    "\n",
    "model_h.add(Conv3D(nb_filters[3], \n",
    "                 kernel_size=(1,3,3), \n",
    "                 padding='same'))\n",
    "model_h.add(BatchNormalization())\n",
    "model_h.add(Activation('relu'))\n",
    "\n",
    "model_h.add(MaxPooling3D(pool_size=(2,2,2)))\n",
    "\n",
    "#Flatten Layers\n",
    "model_h.add(Flatten())\n",
    "\n",
    "model_h.add(Dense(nb_dense[0], activation='relu'))\n",
    "model_h.add(Dropout(0.5))\n",
    "\n",
    "model_h.add(Dense(nb_dense[1], activation='relu'))\n",
    "model_h.add(Dropout(0.5))\n",
    "\n",
    "#softmax layer\n",
    "model_h.add(Dense(nb_dense[2], activation='softmax'))\n",
    "model_h.compile(optimizer=tf.keras.optimizers.Adadelta(), loss='categorical_crossentropy', metrics=['categorical_accuracy'])\n",
    "model_h.summary()"
   ]
  },
  {
   "cell_type": "markdown",
   "metadata": {},
   "source": [
    "#### Model final"
   ]
  },
  {
   "cell_type": "code",
   "execution_count": 37,
   "metadata": {},
   "outputs": [],
   "source": [
    "nb_filters = [8,16,32,64]\n",
    "nb_dense = [256, 128, 5]\n",
    "\n",
    "# Input\n",
    "input_shape=(30,120,120,3)\n",
    "\n",
    "# Define model\n",
    "model_final = Sequential()\n",
    "\n",
    "model_final.add(Conv3D(nb_filters[0], \n",
    "                 kernel_size=(3,3,3), \n",
    "                 input_shape=input_shape,\n",
    "                 padding='same'))\n",
    "model_final.add(BatchNormalization())\n",
    "model_final.add(Activation('relu'))\n",
    "\n",
    "model_final.add(MaxPooling3D(pool_size=(2,2,2)))\n",
    "\n",
    "model_final.add(Conv3D(nb_filters[1], \n",
    "                 kernel_size=(3,3,3), \n",
    "                 padding='same'))\n",
    "model_final.add(BatchNormalization())\n",
    "model_final.add(Activation('relu'))\n",
    "\n",
    "model_final.add(MaxPooling3D(pool_size=(2,2,2)))\n",
    "\n",
    "model_final.add(Conv3D(nb_filters[2], \n",
    "                 kernel_size=(1,3,3), \n",
    "                 padding='same'))\n",
    "model_final.add(BatchNormalization())\n",
    "model_final.add(Activation('relu'))\n",
    "\n",
    "model_final.add(MaxPooling3D(pool_size=(2,2,2)))\n",
    "\n",
    "model_final.add(Conv3D(nb_filters[3], \n",
    "                 kernel_size=(1,3,3), \n",
    "                 padding='same'))\n",
    "model_final.add(Activation('relu'))\n",
    "model_final.add(Dropout(0.25))\n",
    "\n",
    "model_final.add(MaxPooling3D(pool_size=(2,2,2)))\n",
    "\n",
    "#Flatten Layers\n",
    "model_final.add(Flatten())\n",
    "\n",
    "model_final.add(Dense(nb_dense[0], activation='relu'))\n",
    "model_final.add(Dropout(0.5))\n",
    "\n",
    "model_final.add(Dense(nb_dense[1], activation='relu'))\n",
    "model_final.add(Dropout(0.5))\n",
    "\n",
    "#softmax layer\n",
    "model_final.add(Dense(nb_dense[2], activation='softmax'))"
   ]
  },
  {
   "cell_type": "code",
   "execution_count": 38,
   "metadata": {},
   "outputs": [
    {
     "name": "stdout",
     "output_type": "stream",
     "text": [
      "Model: \"sequential_9\"\n",
      "_________________________________________________________________\n",
      " Layer (type)                Output Shape              Param #   \n",
      "=================================================================\n",
      " conv3d_40 (Conv3D)          (None, 30, 120, 120, 8)   656       \n",
      "                                                                 \n",
      " batch_normalization_22 (Bat  (None, 30, 120, 120, 8)  32        \n",
      " chNormalization)                                                \n",
      "                                                                 \n",
      " activation_40 (Activation)  (None, 30, 120, 120, 8)   0         \n",
      "                                                                 \n",
      " max_pooling3d_30 (MaxPoolin  (None, 15, 60, 60, 8)    0         \n",
      " g3D)                                                            \n",
      "                                                                 \n",
      " conv3d_41 (Conv3D)          (None, 15, 60, 60, 16)    3472      \n",
      "                                                                 \n",
      " batch_normalization_23 (Bat  (None, 15, 60, 60, 16)   64        \n",
      " chNormalization)                                                \n",
      "                                                                 \n",
      " activation_41 (Activation)  (None, 15, 60, 60, 16)    0         \n",
      "                                                                 \n",
      " max_pooling3d_31 (MaxPoolin  (None, 7, 30, 30, 16)    0         \n",
      " g3D)                                                            \n",
      "                                                                 \n",
      " conv3d_42 (Conv3D)          (None, 7, 30, 30, 32)     4640      \n",
      "                                                                 \n",
      " batch_normalization_24 (Bat  (None, 7, 30, 30, 32)    128       \n",
      " chNormalization)                                                \n",
      "                                                                 \n",
      " activation_42 (Activation)  (None, 7, 30, 30, 32)     0         \n",
      "                                                                 \n",
      " max_pooling3d_32 (MaxPoolin  (None, 3, 15, 15, 32)    0         \n",
      " g3D)                                                            \n",
      "                                                                 \n",
      " conv3d_43 (Conv3D)          (None, 3, 15, 15, 64)     18496     \n",
      "                                                                 \n",
      " activation_43 (Activation)  (None, 3, 15, 15, 64)     0         \n",
      "                                                                 \n",
      " dropout_24 (Dropout)        (None, 3, 15, 15, 64)     0         \n",
      "                                                                 \n",
      " max_pooling3d_33 (MaxPoolin  (None, 1, 7, 7, 64)      0         \n",
      " g3D)                                                            \n",
      "                                                                 \n",
      " flatten_9 (Flatten)         (None, 3136)              0         \n",
      "                                                                 \n",
      " dense_23 (Dense)            (None, 256)               803072    \n",
      "                                                                 \n",
      " dropout_25 (Dropout)        (None, 256)               0         \n",
      "                                                                 \n",
      " dense_24 (Dense)            (None, 128)               32896     \n",
      "                                                                 \n",
      " dropout_26 (Dropout)        (None, 128)               0         \n",
      "                                                                 \n",
      " dense_25 (Dense)            (None, 5)                 645       \n",
      "                                                                 \n",
      "=================================================================\n",
      "Total params: 864,101\n",
      "Trainable params: 863,989\n",
      "Non-trainable params: 112\n",
      "_________________________________________________________________\n",
      "None\n"
     ]
    }
   ],
   "source": [
    "optimiser = tf.keras.optimizers.Adam() #write your optimizer\n",
    "model_final.compile(optimizer=optimiser, loss='categorical_crossentropy', metrics=['categorical_accuracy'])\n",
    "print (model_final.summary())"
   ]
  },
  {
   "cell_type": "code",
   "execution_count": 39,
   "metadata": {},
   "outputs": [],
   "source": [
    "train_generator = generator_ex(train_path, train_doc, batch_size)\n",
    "val_generator = generator_ex(val_path, val_doc, batch_size)"
   ]
  },
  {
   "cell_type": "code",
   "execution_count": 40,
   "metadata": {},
   "outputs": [
    {
     "name": "stdout",
     "output_type": "stream",
     "text": [
      "Source path =  /home/datasets/Project_data/train ; batch size = 10\n"
     ]
    },
    {
     "name": "stderr",
     "output_type": "stream",
     "text": [
      "/tmp/ipykernel_429/655006215.py:3: UserWarning: `Model.fit_generator` is deprecated and will be removed in a future version. Please use `Model.fit`, which supports generators.\n",
      "  model_final.fit_generator(train_generator, steps_per_epoch=steps_per_epoch, epochs=num_epochs, verbose=1,\n"
     ]
    },
    {
     "name": "stdout",
     "output_type": "stream",
     "text": [
      "Epoch 1/12\n",
      "65/67 [============================>.] - ETA: 25s - loss: 2.0203 - categorical_accuracy: 0.2277Batch:  67 Index: 10\n",
      "67/67 [==============================] - ETA: 0s - loss: 2.0108 - categorical_accuracy: 0.2262 Source path =  /home/datasets/Project_data/val ; batch size = 10\n",
      "\n",
      "Epoch 00001: saving model to model_init_2022-08-2301_09_04.588158/model-00001-2.01084-0.22624-1.58078-0.35000.h5\n",
      "67/67 [==============================] - 890s 13s/step - loss: 2.0108 - categorical_accuracy: 0.2262 - val_loss: 1.5808 - val_categorical_accuracy: 0.3500 - lr: 0.0010\n",
      "Epoch 2/12\n",
      "67/67 [==============================] - ETA: 0s - loss: 1.6030 - categorical_accuracy: 0.2438\n",
      "Epoch 00002: saving model to model_init_2022-08-2301_09_04.588158/model-00002-1.60297-0.24378-1.59883-0.17000.h5\n",
      "67/67 [==============================] - 315s 5s/step - loss: 1.6030 - categorical_accuracy: 0.2438 - val_loss: 1.5988 - val_categorical_accuracy: 0.1700 - lr: 0.0010\n",
      "Epoch 3/12\n",
      "67/67 [==============================] - ETA: 0s - loss: 1.6164 - categorical_accuracy: 0.2239\n",
      "Epoch 00003: saving model to model_init_2022-08-2301_09_04.588158/model-00003-1.61644-0.22388-1.51119-0.28000.h5\n",
      "67/67 [==============================] - 316s 5s/step - loss: 1.6164 - categorical_accuracy: 0.2239 - val_loss: 1.5112 - val_categorical_accuracy: 0.2800 - lr: 0.0010\n",
      "Epoch 4/12\n",
      "67/67 [==============================] - ETA: 0s - loss: 1.6093 - categorical_accuracy: 0.2687\n",
      "Epoch 00004: saving model to model_init_2022-08-2301_09_04.588158/model-00004-1.60931-0.26866-1.60037-0.20000.h5\n",
      "67/67 [==============================] - 314s 5s/step - loss: 1.6093 - categorical_accuracy: 0.2687 - val_loss: 1.6004 - val_categorical_accuracy: 0.2000 - lr: 0.0010\n",
      "Epoch 5/12\n",
      "67/67 [==============================] - ETA: 0s - loss: 1.5834 - categorical_accuracy: 0.2289\n",
      "Epoch 00005: saving model to model_init_2022-08-2301_09_04.588158/model-00005-1.58345-0.22886-1.56898-0.30000.h5\n",
      "\n",
      "Epoch 00005: ReduceLROnPlateau reducing learning rate to 0.0005000000237487257.\n",
      "67/67 [==============================] - 313s 5s/step - loss: 1.5834 - categorical_accuracy: 0.2289 - val_loss: 1.5690 - val_categorical_accuracy: 0.3000 - lr: 0.0010\n",
      "Epoch 6/12\n",
      "67/67 [==============================] - ETA: 0s - loss: 1.5943 - categorical_accuracy: 0.2189\n",
      "Epoch 00006: saving model to model_init_2022-08-2301_09_04.588158/model-00006-1.59435-0.21891-1.49244-0.38000.h5\n",
      "67/67 [==============================] - 318s 5s/step - loss: 1.5943 - categorical_accuracy: 0.2189 - val_loss: 1.4924 - val_categorical_accuracy: 0.3800 - lr: 5.0000e-04\n",
      "Epoch 7/12\n",
      "67/67 [==============================] - ETA: 0s - loss: 1.5531 - categorical_accuracy: 0.2786\n",
      "Epoch 00007: saving model to model_init_2022-08-2301_09_04.588158/model-00007-1.55312-0.27861-1.44213-0.36000.h5\n",
      "67/67 [==============================] - 314s 5s/step - loss: 1.5531 - categorical_accuracy: 0.2786 - val_loss: 1.4421 - val_categorical_accuracy: 0.3600 - lr: 5.0000e-04\n",
      "Epoch 8/12\n",
      "67/67 [==============================] - ETA: 0s - loss: 1.5618 - categorical_accuracy: 0.3085\n",
      "Epoch 00008: saving model to model_init_2022-08-2301_09_04.588158/model-00008-1.56184-0.30846-1.48978-0.40000.h5\n",
      "67/67 [==============================] - 313s 5s/step - loss: 1.5618 - categorical_accuracy: 0.3085 - val_loss: 1.4898 - val_categorical_accuracy: 0.4000 - lr: 5.0000e-04\n",
      "Epoch 9/12\n",
      "67/67 [==============================] - ETA: 0s - loss: 1.4293 - categorical_accuracy: 0.4428\n",
      "Epoch 00009: saving model to model_init_2022-08-2301_09_04.588158/model-00009-1.42928-0.44279-1.39834-0.41000.h5\n",
      "67/67 [==============================] - 316s 5s/step - loss: 1.4293 - categorical_accuracy: 0.4428 - val_loss: 1.3983 - val_categorical_accuracy: 0.4100 - lr: 5.0000e-04\n",
      "Epoch 10/12\n",
      "67/67 [==============================] - ETA: 0s - loss: 1.3954 - categorical_accuracy: 0.4179\n",
      "Epoch 00010: saving model to model_init_2022-08-2301_09_04.588158/model-00010-1.39542-0.41791-1.28772-0.50000.h5\n",
      "67/67 [==============================] - 317s 5s/step - loss: 1.3954 - categorical_accuracy: 0.4179 - val_loss: 1.2877 - val_categorical_accuracy: 0.5000 - lr: 5.0000e-04\n",
      "Epoch 11/12\n",
      "67/67 [==============================] - ETA: 0s - loss: 1.3949 - categorical_accuracy: 0.4378\n",
      "Epoch 00011: saving model to model_init_2022-08-2301_09_04.588158/model-00011-1.39487-0.43781-1.26561-0.52000.h5\n",
      "67/67 [==============================] - 320s 5s/step - loss: 1.3949 - categorical_accuracy: 0.4378 - val_loss: 1.2656 - val_categorical_accuracy: 0.5200 - lr: 5.0000e-04\n",
      "Epoch 12/12\n",
      "67/67 [==============================] - ETA: 0s - loss: 1.3878 - categorical_accuracy: 0.4726\n",
      "Epoch 00012: saving model to model_init_2022-08-2301_09_04.588158/model-00012-1.38780-0.47264-1.48596-0.30000.h5\n",
      "67/67 [==============================] - 321s 5s/step - loss: 1.3878 - categorical_accuracy: 0.4726 - val_loss: 1.4860 - val_categorical_accuracy: 0.3000 - lr: 5.0000e-04\n"
     ]
    },
    {
     "data": {
      "text/plain": [
       "<keras.callbacks.History at 0x7f4bb2f27c40>"
      ]
     },
     "execution_count": 40,
     "metadata": {},
     "output_type": "execute_result"
    }
   ],
   "source": [
    "batch_size = 10\n",
    "num_epochs = 12\n",
    "model_final.fit_generator(train_generator, steps_per_epoch=steps_per_epoch, epochs=num_epochs, verbose=1, \n",
    "                    callbacks=callbacks_list, validation_data=val_generator, \n",
    "                    validation_steps=validation_steps, class_weight=None, workers=1, initial_epoch=0)"
   ]
  },
  {
   "cell_type": "code",
   "execution_count": 41,
   "metadata": {},
   "outputs": [
    {
     "name": "stderr",
     "output_type": "stream",
     "text": [
      "/tmp/ipykernel_429/3909543589.py:3: UserWarning: `Model.fit_generator` is deprecated and will be removed in a future version. Please use `Model.fit`, which supports generators.\n",
      "  model_final.fit_generator(train_generator, steps_per_epoch=steps_per_epoch, epochs=num_epochs, verbose=1,\n"
     ]
    },
    {
     "name": "stdout",
     "output_type": "stream",
     "text": [
      "Epoch 1/14\n",
      "67/67 [==============================] - ETA: 0s - loss: 1.3186 - categorical_accuracy: 0.4627\n",
      "Epoch 00001: saving model to model_init_2022-08-2301_09_04.588158/model-00001-1.31864-0.46269-1.12038-0.59000.h5\n",
      "67/67 [==============================] - 315s 5s/step - loss: 1.3186 - categorical_accuracy: 0.4627 - val_loss: 1.1204 - val_categorical_accuracy: 0.5900 - lr: 5.0000e-04\n",
      "Epoch 2/14\n",
      "67/67 [==============================] - ETA: 0s - loss: 1.2876 - categorical_accuracy: 0.4577\n",
      "Epoch 00002: saving model to model_init_2022-08-2301_09_04.588158/model-00002-1.28762-0.45771-1.15274-0.55000.h5\n",
      "67/67 [==============================] - 314s 5s/step - loss: 1.2876 - categorical_accuracy: 0.4577 - val_loss: 1.1527 - val_categorical_accuracy: 0.5500 - lr: 5.0000e-04\n",
      "Epoch 3/14\n",
      "67/67 [==============================] - ETA: 0s - loss: 1.3071 - categorical_accuracy: 0.4826\n",
      "Epoch 00003: saving model to model_init_2022-08-2301_09_04.588158/model-00003-1.30715-0.48259-1.31195-0.54000.h5\n",
      "\n",
      "Epoch 00003: ReduceLROnPlateau reducing learning rate to 0.0002500000118743628.\n",
      "67/67 [==============================] - 317s 5s/step - loss: 1.3071 - categorical_accuracy: 0.4826 - val_loss: 1.3120 - val_categorical_accuracy: 0.5400 - lr: 5.0000e-04\n",
      "Epoch 4/14\n",
      "67/67 [==============================] - ETA: 0s - loss: 1.1945 - categorical_accuracy: 0.5373\n",
      "Epoch 00004: saving model to model_init_2022-08-2301_09_04.588158/model-00004-1.19454-0.53731-1.15104-0.57000.h5\n",
      "67/67 [==============================] - 315s 5s/step - loss: 1.1945 - categorical_accuracy: 0.5373 - val_loss: 1.1510 - val_categorical_accuracy: 0.5700 - lr: 2.5000e-04\n",
      "Epoch 5/14\n",
      "67/67 [==============================] - ETA: 0s - loss: 1.2158 - categorical_accuracy: 0.5075\n",
      "Epoch 00005: saving model to model_init_2022-08-2301_09_04.588158/model-00005-1.21577-0.50746-1.15839-0.51000.h5\n",
      "\n",
      "Epoch 00005: ReduceLROnPlateau reducing learning rate to 0.0001250000059371814.\n",
      "67/67 [==============================] - 315s 5s/step - loss: 1.2158 - categorical_accuracy: 0.5075 - val_loss: 1.1584 - val_categorical_accuracy: 0.5100 - lr: 2.5000e-04\n",
      "Epoch 6/14\n",
      "67/67 [==============================] - ETA: 0s - loss: 1.1510 - categorical_accuracy: 0.5473\n",
      "Epoch 00006: saving model to model_init_2022-08-2301_09_04.588158/model-00006-1.15098-0.54726-1.12885-0.54000.h5\n",
      "67/67 [==============================] - 316s 5s/step - loss: 1.1510 - categorical_accuracy: 0.5473 - val_loss: 1.1289 - val_categorical_accuracy: 0.5400 - lr: 1.2500e-04\n",
      "Epoch 7/14\n",
      "67/67 [==============================] - ETA: 0s - loss: 1.1083 - categorical_accuracy: 0.5622\n",
      "Epoch 00007: saving model to model_init_2022-08-2301_09_04.588158/model-00007-1.10832-0.56219-0.99846-0.56000.h5\n",
      "67/67 [==============================] - 319s 5s/step - loss: 1.1083 - categorical_accuracy: 0.5622 - val_loss: 0.9985 - val_categorical_accuracy: 0.5600 - lr: 1.2500e-04\n",
      "Epoch 8/14\n",
      "67/67 [==============================] - ETA: 0s - loss: 1.0927 - categorical_accuracy: 0.5721\n",
      "Epoch 00008: saving model to model_init_2022-08-2301_09_04.588158/model-00008-1.09265-0.57214-1.14954-0.50000.h5\n",
      "67/67 [==============================] - 314s 5s/step - loss: 1.0927 - categorical_accuracy: 0.5721 - val_loss: 1.1495 - val_categorical_accuracy: 0.5000 - lr: 1.2500e-04\n",
      "Epoch 9/14\n",
      "67/67 [==============================] - ETA: 0s - loss: 1.1253 - categorical_accuracy: 0.5274\n",
      "Epoch 00009: saving model to model_init_2022-08-2301_09_04.588158/model-00009-1.12527-0.52736-1.18943-0.45000.h5\n",
      "\n",
      "Epoch 00009: ReduceLROnPlateau reducing learning rate to 6.25000029685907e-05.\n",
      "67/67 [==============================] - 316s 5s/step - loss: 1.1253 - categorical_accuracy: 0.5274 - val_loss: 1.1894 - val_categorical_accuracy: 0.4500 - lr: 1.2500e-04\n",
      "Epoch 10/14\n",
      "67/67 [==============================] - ETA: 0s - loss: 1.0454 - categorical_accuracy: 0.6368\n",
      "Epoch 00010: saving model to model_init_2022-08-2301_09_04.588158/model-00010-1.04542-0.63682-1.11833-0.55000.h5\n",
      "67/67 [==============================] - 317s 5s/step - loss: 1.0454 - categorical_accuracy: 0.6368 - val_loss: 1.1183 - val_categorical_accuracy: 0.5500 - lr: 6.2500e-05\n",
      "Epoch 11/14\n",
      "67/67 [==============================] - ETA: 0s - loss: 1.0175 - categorical_accuracy: 0.6169\n",
      "Epoch 00011: saving model to model_init_2022-08-2301_09_04.588158/model-00011-1.01750-0.61692-1.08470-0.57000.h5\n",
      "\n",
      "Epoch 00011: ReduceLROnPlateau reducing learning rate to 3.125000148429535e-05.\n",
      "67/67 [==============================] - 314s 5s/step - loss: 1.0175 - categorical_accuracy: 0.6169 - val_loss: 1.0847 - val_categorical_accuracy: 0.5700 - lr: 6.2500e-05\n",
      "Epoch 12/14\n",
      "67/67 [==============================] - ETA: 0s - loss: 1.0935 - categorical_accuracy: 0.5920\n",
      "Epoch 00012: saving model to model_init_2022-08-2301_09_04.588158/model-00012-1.09347-0.59204-1.00154-0.58000.h5\n",
      "67/67 [==============================] - 319s 5s/step - loss: 1.0935 - categorical_accuracy: 0.5920 - val_loss: 1.0015 - val_categorical_accuracy: 0.5800 - lr: 3.1250e-05\n",
      "Epoch 13/14\n",
      "67/67 [==============================] - ETA: 0s - loss: 0.9863 - categorical_accuracy: 0.6169\n",
      "Epoch 00013: saving model to model_init_2022-08-2301_09_04.588158/model-00013-0.98627-0.61692-1.03949-0.55000.h5\n",
      "\n",
      "Epoch 00013: ReduceLROnPlateau reducing learning rate to 1.5625000742147677e-05.\n",
      "67/67 [==============================] - 317s 5s/step - loss: 0.9863 - categorical_accuracy: 0.6169 - val_loss: 1.0395 - val_categorical_accuracy: 0.5500 - lr: 3.1250e-05\n",
      "Epoch 14/14\n",
      "67/67 [==============================] - ETA: 0s - loss: 0.9051 - categorical_accuracy: 0.7065\n",
      "Epoch 00014: saving model to model_init_2022-08-2301_09_04.588158/model-00014-0.90510-0.70647-0.97589-0.59000.h5\n",
      "67/67 [==============================] - 325s 5s/step - loss: 0.9051 - categorical_accuracy: 0.7065 - val_loss: 0.9759 - val_categorical_accuracy: 0.5900 - lr: 1.5625e-05\n"
     ]
    },
    {
     "data": {
      "text/plain": [
       "<keras.callbacks.History at 0x7f4bcf57b550>"
      ]
     },
     "execution_count": 41,
     "metadata": {},
     "output_type": "execute_result"
    }
   ],
   "source": [
    "batch_size = 12\n",
    "num_epochs = 14\n",
    "model_final.fit_generator(train_generator, steps_per_epoch=steps_per_epoch, epochs=num_epochs, verbose=1, \n",
    "                    callbacks=callbacks_list, validation_data=val_generator, \n",
    "                    validation_steps=validation_steps, class_weight=None, workers=1, initial_epoch=0)"
   ]
  },
  {
   "cell_type": "code",
   "execution_count": null,
   "metadata": {},
   "outputs": [],
   "source": []
  }
 ],
 "metadata": {
  "kernelspec": {
   "display_name": "Python 3 (ipykernel)",
   "language": "python",
   "name": "python3"
  },
  "language_info": {
   "codemirror_mode": {
    "name": "ipython",
    "version": 3
   },
   "file_extension": ".py",
   "mimetype": "text/x-python",
   "name": "python",
   "nbconvert_exporter": "python",
   "pygments_lexer": "ipython3",
   "version": "3.8.10"
  }
 },
 "nbformat": 4,
 "nbformat_minor": 4
}
